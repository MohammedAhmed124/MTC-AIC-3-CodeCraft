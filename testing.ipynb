{
 "cells": [
  {
   "cell_type": "code",
   "execution_count": 1,
   "id": "fbcdac31",
   "metadata": {},
   "outputs": [],
   "source": [
    "from new_load import Loader"
   ]
  },
  {
   "cell_type": "code",
   "execution_count": 3,
   "id": "451ef831",
   "metadata": {},
   "outputs": [],
   "source": [
    "loader = Loader()\n",
    "\n",
    "\n",
    "train_trials = loader.get_trials_from_df(loader.train_df,task_type=\"MI\")\n",
    "test_trials = loader.get_trials_from_df(loader.test_df,task_type=\"MI\")\n",
    "validation_trials = loader.get_trials_from_df(loader.validation_df,task_type=\"MI\")\n",
    "\n",
    "\n",
    "ids, sub, tasks, datas, labels = loader.load_data_parallel(\n",
    "    train_trials,\n",
    "    return_numpy=True,\n",
    "    quality_filter=(0.63,10,None)\n",
    "    )\n"
   ]
  },
  {
   "cell_type": "code",
   "execution_count": null,
   "id": "116d677c",
   "metadata": {},
   "outputs": [
    {
     "data": {
      "text/plain": [
       "array([[3.13831125e+05, 3.13549125e+05, 3.13374969e+05, ...,\n",
       "        3.13310312e+05, 3.13600625e+05, 3.13653000e+05],\n",
       "       [3.22605969e+05, 3.22370656e+05, 3.22046000e+05, ...,\n",
       "        3.21815062e+05, 3.22162938e+05, 3.22349531e+05],\n",
       "       [3.44476969e+05, 3.43970750e+05, 3.43240375e+05, ...,\n",
       "        3.43024719e+05, 3.43780219e+05, 3.44267312e+05],\n",
       "       ...,\n",
       "       [1.00946291e+00, 1.00947806e+00, 1.00988692e+00, ...,\n",
       "        1.01200486e+00, 1.01239981e+00, 1.01157844e+00],\n",
       "       [5.33839549e-01, 4.97726595e-01, 5.18798795e-01, ...,\n",
       "        6.11113983e-01, 6.78287005e-01, 7.54346069e-01],\n",
       "       [1.00000000e+00, 1.00000000e+00, 1.00000000e+00, ...,\n",
       "        1.00000000e+00, 1.00000000e+00, 1.00000000e+00]])"
      ]
     },
     "execution_count": 6,
     "metadata": {},
     "output_type": "execute_result"
    }
   ],
   "source": []
  }
 ],
 "metadata": {
  "kernelspec": {
   "display_name": "Competition_environment",
   "language": "python",
   "name": "python3"
  },
  "language_info": {
   "codemirror_mode": {
    "name": "ipython",
    "version": 3
   },
   "file_extension": ".py",
   "mimetype": "text/x-python",
   "name": "python",
   "nbconvert_exporter": "python",
   "pygments_lexer": "ipython3",
   "version": "3.10.18"
  }
 },
 "nbformat": 4,
 "nbformat_minor": 5
}
