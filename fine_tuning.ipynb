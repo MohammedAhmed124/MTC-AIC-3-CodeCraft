{
 "cells": [
  {
   "cell_type": "code",
   "execution_count": 18,
   "id": "9e4226a4",
   "metadata": {},
   "outputs": [
    {
     "name": "stdout",
     "output_type": "stream",
     "text": [
      "extracting data for futher preprocessing...\n",
      "\n"
     ]
    }
   ],
   "source": [
    "import sys , os\n",
    "\n",
    "# -----------------------------------------------------------------------------\n",
    "# Project Path Setup\n",
    "#    - Add project root to Python path for consistent imports\n",
    "# -----------------------------------------------------------------------------\n",
    "\n",
    "\n",
    "\n",
    "sys.path.append(\"..\")\n",
    "\n",
    "\n",
    "\n",
    "\n",
    "from model.MTCformerV3 import MTCFormer\n",
    "import torch\n",
    "import glob\n",
    "import numpy as np\n",
    "import pandas as pd\n",
    "from torch.optim import Adam\n",
    "from utils.augmentation import augment_data\n",
    "from utils.training import  train_model , predict_optimized\n",
    "from utils.CustomDataset import EEGDataset\n",
    "from torch.utils.data import DataLoader\n",
    "from utils.loader import Loader\n",
    "from utils.preprocessing import SignalPreprocessor\n",
    "\n",
    "print(\"extracting data for futher preprocessing...\",end = \"\\n\\n\")\n",
    "\n",
    "mapping_mi = {\n",
    "    \"Left\":0,\n",
    "    \"Right\":1\n",
    "}\n",
    "inverse_mapping_mi = {\n",
    "    v:k for k , v in mapping_mi.items()\n",
    "} \n",
    "\n",
    "\n",
    "\n",
    "\n",
    "\n",
    "from utils.preprocessing import SignalPreprocessor\n",
    "train_mi_new = pd.read_csv(\"../data_my_head/MI/1/EEGdata.csv\")\n",
    "train_labels_new = pd.read_csv(\"../data_my_head/MI/1/trial_labels.csv\")\n",
    "val_mi = pd.read_csv(\"../data_my_head/MI/2/EEGdata.csv\")\n",
    "val_labels = pd.read_csv(\"../data_my_head/MI/2/trial_labels.csv\")\n",
    "\n",
    "\n",
    "mapping_mi = {\n",
    "    \"Left\":0,\n",
    "    \"Right\":1\n",
    "}\n",
    "trial_df = pd.concat([\n",
    "    train_mi_new , val_mi\n",
    "]).reset_index(drop=True)\n",
    "\n",
    "labels_trial_df = pd.concat([\n",
    "    train_labels_new , val_labels\n",
    "]).reset_index(drop=True)\n",
    "\n",
    "\n",
    "\n",
    "\n",
    "\n",
    "\n"
   ]
  },
  {
   "cell_type": "code",
   "execution_count": 19,
   "id": "d7c82257",
   "metadata": {},
   "outputs": [],
   "source": [
    "def preprocess_fast(\n",
    "        trial_df,\n",
    "        labels_df,\n",
    "        mapping=None,\n",
    "        task=None,\n",
    "        signal_processer = None\n",
    "        ):\n",
    "    assert task in [\"MI\" , \"SSVEP\"]\n",
    "    if task==\"MI\":\n",
    "        eeg_col = ['C3', 'C4', 'CZ', 'FZ' ]\n",
    "        time_len_per_trial = 2250\n",
    "    else:\n",
    "        eeg_col =  ['OZ', 'PO7', 'PO8', 'PZ']\n",
    "        time_len_per_trial = 1750\n",
    "\n",
    "\n",
    "    input_array = trial_df.drop(columns = [\"Time\" , \"Battery\" , \"Counter\"])[eeg_col+['AccX',\n",
    "        'AccY', 'AccZ', 'Gyro1', 'Gyro2', 'Gyro3' , 'Validation']].to_numpy().T\n",
    "    \n",
    "    input_array = input_array.reshape(-1 , 11 , time_len_per_trial)\n",
    "    input_trials = labels_df.direction.map(mapping).values\n",
    "    subjects = np.full(input_trials.shape, \"S13\", dtype=object)\n",
    "    acc_channel = np.linalg.norm(input_array[:,4:7,:],axis = 1)\n",
    "    gyro_channel = np.linalg.norm(input_array[:,7:10,:],axis = 1)\n",
    "    Validation_Channel = input_array[:,10,:]\n",
    "    input_array[:,4,:] = acc_channel\n",
    "    input_array[:,5,:] = gyro_channel\n",
    "    input_array[:,6,:] = Validation_Channel\n",
    "\n",
    "    input_array = input_array[:,:7,:]\n",
    "\n",
    "\n",
    "\n",
    "    preprocessed_test_data , preprocessed_test_labels , preprocessed_test_subject_ids , weights_test = signal_processer.apply_preprocessing(input_array, input_trials , subjects)\n",
    "    \n",
    "    num_windows_per_trial = signal_processer.num_windows_per_trial\n",
    "\n",
    "    \n",
    "    return (\n",
    "        torch.from_numpy(preprocessed_test_data).to(torch.float32),\n",
    "        torch.from_numpy(preprocessed_test_labels).to(torch.long),\n",
    "        torch.full(preprocessed_test_subject_ids.shape , 12).to(torch.long),\n",
    "        torch.from_numpy(weights_test).to(torch.float32),\n",
    "        num_windows_per_trial\n",
    "        )"
   ]
  },
  {
   "cell_type": "code",
   "execution_count": 20,
   "id": "7f1db1f9",
   "metadata": {},
   "outputs": [
    {
     "data": {
      "text/plain": [
       "====================================================================================================\n",
       "Layer (type:depth-idx)                             Output Shape              Param #\n",
       "====================================================================================================\n",
       "MTCFormer                                          [1, 2]                    --\n",
       "├─TemporalModulator: 1-1                           [1, 4, 600]               --\n",
       "│    └─Conv1d: 2-1                                 [1, 4, 600]               (364)\n",
       "│    └─ChannelWiseLayerNorm: 2-2                   [1, 4, 600]               (8)\n",
       "│    └─Dropout: 2-3                                [1, 4, 600]               --\n",
       "│    └─Sigmoid: 2-4                                [1, 4, 600]               --\n",
       "├─Conv1d: 1-2                                      [1, 8, 600]               (40)\n",
       "├─ChannelWiseLayerNorm: 1-3                        [1, 8, 600]               (16)\n",
       "├─GELU: 1-4                                        [1, 8, 600]               --\n",
       "├─Dropout: 1-5                                     [1, 8, 600]               --\n",
       "├─ConvolutionalAttention: 1-6                      [1, 8, 600]               --\n",
       "│    └─ModuleList: 2-5                             --                        --\n",
       "│    │    └─ConvolutionalAttentionBlock: 3-1       [1, 8, 600]               (153,651)\n",
       "│    │    └─ConvolutionalAttentionBlock: 3-2       [1, 8, 600]               153,651\n",
       "│    │    └─ConvolutionalAttentionBlock: 3-3       [1, 8, 600]               153,651\n",
       "├─DomainClassifier: 1-7                            [1, 30]                   --\n",
       "│    └─Sequential: 2-6                             [1, 30]                   --\n",
       "│    │    └─AdaptiveAvgPool1d: 3-4                 [1, 8, 60]                --\n",
       "│    │    └─Flatten: 3-5                           [1, 480]                  --\n",
       "│    │    └─Dropout: 3-6                           [1, 480]                  --\n",
       "│    │    └─Linear: 3-7                            [1, 180]                  86,580\n",
       "│    │    └─LayerNorm: 3-8                         [1, 180]                  360\n",
       "│    │    └─GELU: 3-9                              [1, 180]                  --\n",
       "│    │    └─Dropout: 3-10                          [1, 180]                  --\n",
       "│    │    └─Linear: 3-11                           [1, 30]                   5,430\n",
       "├─Sequential: 1-8                                  [1, 2]                    --\n",
       "│    └─AdaptiveAvgPool1d: 2-7                      [1, 8, 60]                --\n",
       "│    └─Flatten: 2-8                                [1, 480]                  --\n",
       "│    └─Dropout: 2-9                                [1, 480]                  --\n",
       "│    └─Linear: 2-10                                [1, 12]                   5,772\n",
       "│    └─LayerNorm: 2-11                             [1, 12]                   24\n",
       "│    └─GELU: 2-12                                  [1, 12]                   --\n",
       "│    └─Dropout: 2-13                               [1, 12]                   --\n",
       "│    └─Linear: 2-14                                [1, 2]                    26\n",
       "====================================================================================================\n",
       "Total params: 559,573\n",
       "Trainable params: 377,452\n",
       "Non-trainable params: 182,121\n",
       "Total mult-adds (M): 35.38\n",
       "====================================================================================================\n",
       "Input size (MB): 0.02\n",
       "Forward/backward pass size (MB): 1.75\n",
       "Params size (MB): 2.20\n",
       "Estimated Total Size (MB): 3.96\n",
       "===================================================================================================="
      ]
     },
     "execution_count": 20,
     "metadata": {},
     "output_type": "execute_result"
    }
   ],
   "source": [
    "device = torch.device(\"cuda\")\n",
    "\n",
    "from torchinfo import summary\n",
    "model_mi_1  = MTCFormer(depth=3,\n",
    "                    kernel_size=50,\n",
    "                    modulator_kernel_size=30,\n",
    "                    n_times=600,\n",
    "                    chs_num=7,\n",
    "                    eeg_ch_nums=4,\n",
    "                    class_num=2,\n",
    "                    class_num_domain=30,\n",
    "                    modulator_dropout=0.48929137963218305,\n",
    "                    mid_dropout=0.5,\n",
    "                    output_dropout=0.42685917257840517,\n",
    "                    k=100,\n",
    "                    projection_dimention=2,\n",
    "                    seed=4224\n",
    "                    ).to(device)\n",
    "\n",
    "for i , param in enumerate(model_mi_1.parameters()):\n",
    "    if i >80:\n",
    "        break\n",
    "    param.requires_grad = False\n",
    "\n",
    "\n",
    "\n",
    "optimizer = Adam(model_mi_1.parameters(), lr=0.002)\n",
    "\n",
    "checkpoint_path = os.path.join(\n",
    "    \"..\",\n",
    "    \"checkpoints\",\n",
    "    \"model_1_mi_checkpoint\",\n",
    "    \"best_model_.pth\"\n",
    "    )\n",
    "\n",
    "checkpoint = torch.load(checkpoint_path, weights_only=False)\n",
    "\n",
    "model_mi_1.load_state_dict(checkpoint['model_state_dict'] , strict=True)\n",
    "\n",
    "summary(model_mi_1 , input_size=(1 , 7 , 600))\n"
   ]
  },
  {
   "cell_type": "code",
   "execution_count": 21,
   "id": "35ad6fb5",
   "metadata": {},
   "outputs": [
    {
     "name": "stdout",
     "output_type": "stream",
     "text": [
      "Preprocessing data for model 1 ..... \n"
     ]
    }
   ],
   "source": [
    "\n",
    "\n",
    "print(\"Preprocessing data for model 1 ..... \")\n",
    "\n",
    "\n",
    "preprocessor = SignalPreprocessor(\n",
    "    fs=250,                                             \n",
    "    bandpass_low=6.0,                     \n",
    "    bandpass_high=24.0,                  \n",
    "    n_cols_to_filter=4,                   \n",
    "    window_size=600,                      \n",
    "    window_stride=70,                    \n",
    "    idx_to_ignore_normalization=-1,        \n",
    "    crop_range=(2.5 , 7)              \n",
    ")\n",
    "\n",
    "\n",
    "\n",
    "input_array , labels , subject_ids , weigths  , num_windows_per_trial = preprocess_fast(\n",
    "        trial_df,\n",
    "        labels_trial_df,\n",
    "        mapping=mapping_mi,\n",
    "        task=\"MI\",\n",
    "        signal_processer = preprocessor\n",
    "        )"
   ]
  },
  {
   "cell_type": "code",
   "execution_count": 22,
   "id": "c0e49c91",
   "metadata": {},
   "outputs": [
    {
     "name": "stdout",
     "output_type": "stream",
     "text": [
      "Data Preparation.... Wrapping preprocessed data inside tensor datasets....\n",
      "\n"
     ]
    }
   ],
   "source": [
    "from utils.CustomDataset import EEGDataset\n",
    "from utils.augmentation import augment_data\n",
    "\n",
    "\n",
    "print(\"Data Preparation.... Wrapping preprocessed data inside tensor datasets....\",end = \"\\n\\n\")\n",
    "\n",
    "\n",
    "from torch.utils.data import DataLoader\n",
    "from utils.CustomDataset import EEGDataset\n",
    "from torch.nn import *\n",
    "from torch.optim.lr_scheduler import *\n",
    "n_trials_to_choose = 12\n",
    "n_windows_to_choose = num_windows_per_trial*n_trials_to_choose\n",
    "training_dataset = EEGDataset(\n",
    "    data_tensor=input_array[:n_windows_to_choose, : , :],\n",
    "    weigths=weigths[:n_windows_to_choose],\n",
    "    label_tensor = labels[:n_windows_to_choose],\n",
    "    subject_labels=subject_ids[:n_windows_to_choose]\n",
    "    \n",
    "    )\n",
    "\n",
    "val_dataset = EEGDataset(\n",
    "    data_tensor=input_array[n_windows_to_choose:, : , :],\n",
    "    weigths=weigths[n_windows_to_choose:],\n",
    "    label_tensor = labels[n_windows_to_choose:],\n",
    "    subject_labels=subject_ids[n_windows_to_choose:]\n",
    ")\n",
    "\n",
    "trial_level_labels = labels[n_windows_to_choose:].clone()\n",
    "\n",
    "train_loader = DataLoader(training_dataset , batch_size=3 , shuffle = True)\n",
    "val_loader = DataLoader(val_dataset , batch_size=val_dataset.__len__() , shuffle = False)"
   ]
  },
  {
   "cell_type": "code",
   "execution_count": 23,
   "id": "cb04ab04",
   "metadata": {},
   "outputs": [
    {
     "name": "stdout",
     "output_type": "stream",
     "text": [
      "Total Parameters of the Model ======> 559,573 paramaters\n",
      "Launching TensorBoard at http://localhost:6006/ ...\n",
      "Path Exists. Contents of this folder will be modified save_path is :  tuned_checkpoints/model_1_mi\n",
      "--- Starting Training Loop ---\n",
      "✅ Best checkpoint updated (save_best_only=True). at  tuned_checkpoints/model_1_mi\n",
      "🟢 Validation Balanced Accuracy improved. Saving best model state...\n",
      "Epoch [1/600] - Train Loss: 138168.0279, Train F1: 0.4353 | adversarial F1 : 0.4103 | Val Loss: 0.6832, Val F1: 0.3826 | Time: 2.3s | Balanced Accuracy Val: 0.5750 | - Domain Loss: 0.2827\n",
      "✅ Best checkpoint updated (save_best_only=True). at  tuned_checkpoints/model_1_mi\n",
      "🟢 Validation Balanced Accuracy improved. Saving best model state...\n",
      "Epoch [2/600] - Train Loss: 120262.3506, Train F1: 0.3615 | adversarial F1 : 0.3407 | Val Loss: 0.6711, Val F1: 0.4333 | Time: 2.5s | Balanced Accuracy Val: 0.6000 | - Domain Loss: 0.0057\n",
      "🟡 No improvement for 1 epochs.\n",
      "Epoch [3/600] - Train Loss: 114511.6159, Train F1: 0.3939 | adversarial F1 : 0.4534 | Val Loss: 0.6800, Val F1: 0.4333 | Time: 2.4s | Balanced Accuracy Val: 0.6000 | - Domain Loss: 0.0145\n",
      "🟡 No improvement for 2 epochs.\n",
      "Epoch [4/600] - Train Loss: 115107.2044, Train F1: 0.3725 | adversarial F1 : 0.3407 | Val Loss: 0.6760, Val F1: 0.4333 | Time: 2.3s | Balanced Accuracy Val: 0.6000 | - Domain Loss: 0.0041\n",
      "🟡 No improvement for 3 epochs.\n",
      "Epoch [5/600] - Train Loss: 112835.5985, Train F1: 0.3561 | adversarial F1 : 0.3670 | Val Loss: 0.6721, Val F1: 0.4333 | Time: 2.5s | Balanced Accuracy Val: 0.6000 | - Domain Loss: 0.0026\n",
      "🟡 No improvement for 4 epochs.\n",
      "Epoch [6/600] - Train Loss: 112158.9434, Train F1: 0.3287 | adversarial F1 : 0.3510 | Val Loss: 0.6731, Val F1: 0.4333 | Time: 2.4s | Balanced Accuracy Val: 0.6000 | - Domain Loss: 0.0031\n",
      "🟡 No improvement for 5 epochs.\n",
      "Epoch [7/600] - Train Loss: 113154.2549, Train F1: 0.3333 | adversarial F1 : 0.3510 | Val Loss: 0.6747, Val F1: 0.4333 | Time: 2.4s | Balanced Accuracy Val: 0.6000 | - Domain Loss: 0.0016\n",
      "🟡 No improvement for 6 epochs.\n",
      "Epoch [8/600] - Train Loss: 115058.0895, Train F1: 0.3287 | adversarial F1 : 0.3287 | Val Loss: 0.6721, Val F1: 0.4333 | Time: 2.3s | Balanced Accuracy Val: 0.6000 | - Domain Loss: 0.0018\n",
      "🟡 No improvement for 7 epochs.\n",
      "Epoch [9/600] - Train Loss: 110259.3181, Train F1: 0.3333 | adversarial F1 : 0.3333 | Val Loss: 0.6721, Val F1: 0.4333 | Time: 2.1s | Balanced Accuracy Val: 0.6000 | - Domain Loss: 0.0063\n",
      "🟡 No improvement for 8 epochs.\n",
      "Epoch [10/600] - Train Loss: 112855.4303, Train F1: 0.4074 | adversarial F1 : 0.3670 | Val Loss: 0.6785, Val F1: 0.4333 | Time: 2.2s | Balanced Accuracy Val: 0.6000 | - Domain Loss: 0.0005\n",
      "🟡 No improvement for 9 epochs.\n",
      "Epoch [11/600] - Train Loss: 110480.3906, Train F1: 0.3510 | adversarial F1 : 0.3816 | Val Loss: 0.6780, Val F1: 0.4333 | Time: 0.1s | Balanced Accuracy Val: 0.6000 | - Domain Loss: 0.0014\n",
      "🟡 No improvement for 10 epochs.\n",
      "Epoch [12/600] - Train Loss: 113389.6484, Train F1: 0.3670 | adversarial F1 : 0.3561 | Val Loss: 0.6775, Val F1: 0.4333 | Time: 0.1s | Balanced Accuracy Val: 0.6000 | - Domain Loss: 0.0017\n",
      "🟡 No improvement for 11 epochs.\n",
      "Epoch [13/600] - Train Loss: 110562.3203, Train F1: 0.3670 | adversarial F1 : 0.3407 | Val Loss: 0.6771, Val F1: 0.4333 | Time: 0.1s | Balanced Accuracy Val: 0.6000 | - Domain Loss: 0.0010\n",
      "🟡 No improvement for 12 epochs.\n",
      "Epoch [14/600] - Train Loss: 113840.0625, Train F1: 0.3615 | adversarial F1 : 0.3992 | Val Loss: 0.6767, Val F1: 0.4333 | Time: 0.1s | Balanced Accuracy Val: 0.6000 | - Domain Loss: 0.0012\n",
      "🟡 No improvement for 13 epochs.\n",
      "Epoch [15/600] - Train Loss: 110877.9766, Train F1: 0.3458 | adversarial F1 : 0.3239 | Val Loss: 0.6763, Val F1: 0.4333 | Time: 0.1s | Balanced Accuracy Val: 0.6000 | - Domain Loss: 0.0017\n",
      "🟡 No improvement for 14 epochs.\n",
      "Epoch [16/600] - Train Loss: 111952.1172, Train F1: 0.3287 | adversarial F1 : 0.3992 | Val Loss: 0.6760, Val F1: 0.4333 | Time: 0.1s | Balanced Accuracy Val: 0.6000 | - Domain Loss: 0.0014\n",
      "🟡 No improvement for 15 epochs.\n",
      "Epoch [17/600] - Train Loss: 111656.7266, Train F1: 0.3445 | adversarial F1 : 0.3287 | Val Loss: 0.6757, Val F1: 0.4333 | Time: 0.1s | Balanced Accuracy Val: 0.6000 | - Domain Loss: 0.0014\n",
      "🟡 No improvement for 16 epochs.\n",
      "Epoch [18/600] - Train Loss: 110244.3281, Train F1: 0.3239 | adversarial F1 : 0.4198 | Val Loss: 0.6754, Val F1: 0.4333 | Time: 0.1s | Balanced Accuracy Val: 0.6000 | - Domain Loss: 0.0014\n",
      "🟡 No improvement for 17 epochs.\n",
      "Epoch [19/600] - Train Loss: 112150.6328, Train F1: 0.3780 | adversarial F1 : 0.3458 | Val Loss: 0.6752, Val F1: 0.4333 | Time: 0.1s | Balanced Accuracy Val: 0.6000 | - Domain Loss: 0.0019\n",
      "🟡 No improvement for 18 epochs.\n",
      "Epoch [20/600] - Train Loss: 111916.0312, Train F1: 0.3458 | adversarial F1 : 0.3670 | Val Loss: 0.6749, Val F1: 0.4333 | Time: 0.1s | Balanced Accuracy Val: 0.6000 | - Domain Loss: 0.0013\n",
      "🟡 No improvement for 19 epochs.\n",
      "Epoch [21/600] - Train Loss: 111635.8359, Train F1: 0.3561 | adversarial F1 : 0.3333 | Val Loss: 0.6747, Val F1: 0.4333 | Time: 0.1s | Balanced Accuracy Val: 0.6000 | - Domain Loss: 0.0015\n",
      "🟡 No improvement for 20 epochs.\n",
      "Epoch [22/600] - Train Loss: 112367.8438, Train F1: 0.3510 | adversarial F1 : 0.3510 | Val Loss: 0.6745, Val F1: 0.4333 | Time: 0.1s | Balanced Accuracy Val: 0.6000 | - Domain Loss: 0.0014\n",
      "🟡 No improvement for 21 epochs.\n",
      "Epoch [23/600] - Train Loss: 113531.9375, Train F1: 0.3670 | adversarial F1 : 0.3301 | Val Loss: 0.6743, Val F1: 0.4333 | Time: 0.1s | Balanced Accuracy Val: 0.6000 | - Domain Loss: 0.0011\n",
      "🟡 No improvement for 22 epochs.\n",
      "Epoch [24/600] - Train Loss: 111969.7891, Train F1: 0.4397 | adversarial F1 : 0.3780 | Val Loss: 0.6742, Val F1: 0.4333 | Time: 0.1s | Balanced Accuracy Val: 0.6000 | - Domain Loss: 0.0011\n",
      "🟡 No improvement for 23 epochs.\n",
      "Epoch [25/600] - Train Loss: 110790.6797, Train F1: 0.3333 | adversarial F1 : 0.3875 | Val Loss: 0.6741, Val F1: 0.4333 | Time: 0.1s | Balanced Accuracy Val: 0.6000 | - Domain Loss: 0.0010\n",
      "🟡 No improvement for 24 epochs.\n",
      "Epoch [26/600] - Train Loss: 113496.1016, Train F1: 0.3458 | adversarial F1 : 0.3333 | Val Loss: 0.6739, Val F1: 0.4333 | Time: 0.1s | Balanced Accuracy Val: 0.6000 | - Domain Loss: 0.0015\n",
      "🟡 No improvement for 25 epochs.\n",
      "Epoch [27/600] - Train Loss: 113583.6562, Train F1: 0.3287 | adversarial F1 : 0.3780 | Val Loss: 0.6738, Val F1: 0.4333 | Time: 0.1s | Balanced Accuracy Val: 0.6000 | - Domain Loss: 0.0015\n",
      "🟡 No improvement for 26 epochs.\n",
      "Epoch [28/600] - Train Loss: 112378.3984, Train F1: 0.3510 | adversarial F1 : 0.3559 | Val Loss: 0.6737, Val F1: 0.4333 | Time: 0.1s | Balanced Accuracy Val: 0.6000 | - Domain Loss: 0.0012\n",
      "🟡 No improvement for 27 epochs.\n",
      "Epoch [29/600] - Train Loss: 108966.3438, Train F1: 0.3239 | adversarial F1 : 0.3780 | Val Loss: 0.6736, Val F1: 0.4333 | Time: 0.1s | Balanced Accuracy Val: 0.6000 | - Domain Loss: 0.0014\n",
      "🟡 No improvement for 28 epochs.\n",
      "Epoch [30/600] - Train Loss: 108535.8516, Train F1: 0.3561 | adversarial F1 : 0.3333 | Val Loss: 0.6735, Val F1: 0.4333 | Time: 0.1s | Balanced Accuracy Val: 0.6000 | - Domain Loss: 0.0013\n",
      "🟡 No improvement for 29 epochs.\n",
      "Epoch [31/600] - Train Loss: 111678.3047, Train F1: 0.3725 | adversarial F1 : 0.4198 | Val Loss: 0.6733, Val F1: 0.4333 | Time: 0.1s | Balanced Accuracy Val: 0.6000 | - Domain Loss: 0.0014\n",
      "🟡 No improvement for 30 epochs.\n",
      "Epoch [32/600] - Train Loss: 111455.9922, Train F1: 0.3561 | adversarial F1 : 0.3780 | Val Loss: 0.6732, Val F1: 0.4333 | Time: 0.1s | Balanced Accuracy Val: 0.6000 | - Domain Loss: 0.0010\n",
      "🟡 No improvement for 31 epochs.\n",
      "Epoch [33/600] - Train Loss: 113197.6953, Train F1: 0.4397 | adversarial F1 : 0.3934 | Val Loss: 0.6731, Val F1: 0.4333 | Time: 0.1s | Balanced Accuracy Val: 0.6000 | - Domain Loss: 0.0015\n",
      "🟡 No improvement for 32 epochs.\n",
      "Epoch [34/600] - Train Loss: 112320.8203, Train F1: 0.3510 | adversarial F1 : 0.3287 | Val Loss: 0.6730, Val F1: 0.4333 | Time: 0.1s | Balanced Accuracy Val: 0.6000 | - Domain Loss: 0.0011\n",
      "🟡 No improvement for 33 epochs.\n",
      "Epoch [35/600] - Train Loss: 110795.3516, Train F1: 0.3333 | adversarial F1 : 0.3561 | Val Loss: 0.6729, Val F1: 0.4333 | Time: 0.1s | Balanced Accuracy Val: 0.6000 | - Domain Loss: 0.0012\n",
      "🟡 No improvement for 34 epochs.\n",
      "Epoch [36/600] - Train Loss: 113846.5547, Train F1: 0.3287 | adversarial F1 : 0.3333 | Val Loss: 0.6729, Val F1: 0.4333 | Time: 0.1s | Balanced Accuracy Val: 0.6000 | - Domain Loss: 0.0014\n",
      "🟡 No improvement for 35 epochs.\n",
      "Epoch [37/600] - Train Loss: 109364.9766, Train F1: 0.3333 | adversarial F1 : 0.3287 | Val Loss: 0.6728, Val F1: 0.4333 | Time: 0.1s | Balanced Accuracy Val: 0.6000 | - Domain Loss: 0.0012\n",
      "🟡 No improvement for 36 epochs.\n",
      "Epoch [38/600] - Train Loss: 114464.5078, Train F1: 0.3333 | adversarial F1 : 0.3239 | Val Loss: 0.6727, Val F1: 0.4333 | Time: 0.1s | Balanced Accuracy Val: 0.6000 | - Domain Loss: 0.0012\n",
      "🟡 No improvement for 37 epochs.\n",
      "Epoch [39/600] - Train Loss: 113432.4766, Train F1: 0.3287 | adversarial F1 : 0.3333 | Val Loss: 0.6726, Val F1: 0.4333 | Time: 0.1s | Balanced Accuracy Val: 0.6000 | - Domain Loss: 0.0012\n",
      "🟡 No improvement for 38 epochs.\n",
      "Epoch [40/600] - Train Loss: 110621.6953, Train F1: 0.3561 | adversarial F1 : 0.3510 | Val Loss: 0.6726, Val F1: 0.4333 | Time: 0.1s | Balanced Accuracy Val: 0.6000 | - Domain Loss: 0.0019\n",
      "🟡 No improvement for 39 epochs.\n",
      "Epoch [41/600] - Train Loss: 110617.6016, Train F1: 0.3725 | adversarial F1 : 0.3287 | Val Loss: 0.6725, Val F1: 0.4333 | Time: 0.1s | Balanced Accuracy Val: 0.6000 | - Domain Loss: 0.0012\n",
      "🟡 No improvement for 40 epochs.\n",
      "Epoch [42/600] - Train Loss: 111885.5625, Train F1: 0.3725 | adversarial F1 : 0.3333 | Val Loss: 0.6725, Val F1: 0.4333 | Time: 0.1s | Balanced Accuracy Val: 0.6000 | - Domain Loss: 0.0010\n",
      "🟡 No improvement for 41 epochs.\n",
      "Epoch [43/600] - Train Loss: 109938.8516, Train F1: 0.3287 | adversarial F1 : 0.3333 | Val Loss: 0.6724, Val F1: 0.4333 | Time: 0.1s | Balanced Accuracy Val: 0.6000 | - Domain Loss: 0.0012\n",
      "🟡 No improvement for 42 epochs.\n",
      "Epoch [44/600] - Train Loss: 111588.3125, Train F1: 0.3287 | adversarial F1 : 0.3333 | Val Loss: 0.6724, Val F1: 0.4333 | Time: 0.1s | Balanced Accuracy Val: 0.6000 | - Domain Loss: 0.0012\n",
      "🟡 No improvement for 43 epochs.\n",
      "Epoch [45/600] - Train Loss: 114452.0156, Train F1: 0.3458 | adversarial F1 : 0.3333 | Val Loss: 0.6724, Val F1: 0.4333 | Time: 0.1s | Balanced Accuracy Val: 0.6000 | - Domain Loss: 0.0012\n",
      "🟡 No improvement for 44 epochs.\n",
      "Epoch [46/600] - Train Loss: 111305.3516, Train F1: 0.3875 | adversarial F1 : 0.3510 | Val Loss: 0.6724, Val F1: 0.4333 | Time: 0.1s | Balanced Accuracy Val: 0.6000 | - Domain Loss: 0.0014\n",
      "🟡 No improvement for 45 epochs.\n",
      "Epoch [47/600] - Train Loss: 108993.8125, Train F1: 0.3510 | adversarial F1 : 0.3333 | Val Loss: 0.6724, Val F1: 0.4333 | Time: 0.1s | Balanced Accuracy Val: 0.6000 | - Domain Loss: 0.0012\n",
      "🟡 No improvement for 46 epochs.\n",
      "Epoch [48/600] - Train Loss: 108208.7031, Train F1: 0.3561 | adversarial F1 : 0.3333 | Val Loss: 0.6723, Val F1: 0.4333 | Time: 0.1s | Balanced Accuracy Val: 0.6000 | - Domain Loss: 0.0013\n",
      "🟡 No improvement for 47 epochs.\n",
      "Epoch [49/600] - Train Loss: 114376.4922, Train F1: 0.3333 | adversarial F1 : 0.3333 | Val Loss: 0.6723, Val F1: 0.4333 | Time: 0.1s | Balanced Accuracy Val: 0.6000 | - Domain Loss: 0.0011\n",
      "🟡 No improvement for 48 epochs.\n",
      "Epoch [50/600] - Train Loss: 113105.3281, Train F1: 0.3333 | adversarial F1 : 0.3510 | Val Loss: 0.6723, Val F1: 0.4333 | Time: 0.1s | Balanced Accuracy Val: 0.6000 | - Domain Loss: 0.0013\n",
      "🟡 No improvement for 49 epochs.\n",
      "Epoch [51/600] - Train Loss: 110648.2734, Train F1: 0.3561 | adversarial F1 : 0.3333 | Val Loss: 0.6723, Val F1: 0.4333 | Time: 0.1s | Balanced Accuracy Val: 0.6000 | - Domain Loss: 0.0012\n",
      "🟡 No improvement for 50 epochs.\n",
      "Epoch [52/600] - Train Loss: 113528.4219, Train F1: 0.3287 | adversarial F1 : 0.3287 | Val Loss: 0.6723, Val F1: 0.4333 | Time: 0.1s | Balanced Accuracy Val: 0.6000 | - Domain Loss: 0.0010\n",
      "🟡 No improvement for 51 epochs.\n",
      "Epoch [53/600] - Train Loss: 110492.7891, Train F1: 0.3333 | adversarial F1 : 0.3510 | Val Loss: 0.6723, Val F1: 0.4333 | Time: 0.1s | Balanced Accuracy Val: 0.6000 | - Domain Loss: 0.0010\n",
      "🟡 No improvement for 52 epochs.\n",
      "Epoch [54/600] - Train Loss: 112012.5859, Train F1: 0.3561 | adversarial F1 : 0.3561 | Val Loss: 0.6723, Val F1: 0.4333 | Time: 0.1s | Balanced Accuracy Val: 0.6000 | - Domain Loss: 0.0013\n",
      "🟡 No improvement for 53 epochs.\n",
      "Epoch [55/600] - Train Loss: 109685.0156, Train F1: 0.3239 | adversarial F1 : 0.3458 | Val Loss: 0.6723, Val F1: 0.4333 | Time: 0.1s | Balanced Accuracy Val: 0.6000 | - Domain Loss: 0.0012\n",
      "🟡 No improvement for 54 epochs.\n",
      "Epoch [56/600] - Train Loss: 110312.6797, Train F1: 0.3561 | adversarial F1 : 0.3875 | Val Loss: 0.6723, Val F1: 0.4333 | Time: 0.1s | Balanced Accuracy Val: 0.6000 | - Domain Loss: 0.0011\n",
      "🟡 No improvement for 55 epochs.\n",
      "Epoch [57/600] - Train Loss: 112137.1641, Train F1: 0.3561 | adversarial F1 : 0.3333 | Val Loss: 0.6723, Val F1: 0.4333 | Time: 0.1s | Balanced Accuracy Val: 0.6000 | - Domain Loss: 0.0015\n",
      "🟡 No improvement for 56 epochs.\n",
      "Epoch [58/600] - Train Loss: 115374.4688, Train F1: 0.3239 | adversarial F1 : 0.3561 | Val Loss: 0.6723, Val F1: 0.4333 | Time: 0.1s | Balanced Accuracy Val: 0.6000 | - Domain Loss: 0.0012\n",
      "🟡 No improvement for 57 epochs.\n",
      "Epoch [59/600] - Train Loss: 108008.8828, Train F1: 0.3510 | adversarial F1 : 0.3561 | Val Loss: 0.6722, Val F1: 0.4333 | Time: 0.1s | Balanced Accuracy Val: 0.6000 | - Domain Loss: 0.0012\n",
      "🟡 No improvement for 58 epochs.\n",
      "Epoch [60/600] - Train Loss: 110408.8750, Train F1: 0.3333 | adversarial F1 : 0.3333 | Val Loss: 0.6722, Val F1: 0.4333 | Time: 0.1s | Balanced Accuracy Val: 0.6000 | - Domain Loss: 0.0013\n",
      "🟡 No improvement for 59 epochs.\n",
      "Epoch [61/600] - Train Loss: 111741.1172, Train F1: 0.3780 | adversarial F1 : 0.3333 | Val Loss: 0.6722, Val F1: 0.4333 | Time: 0.1s | Balanced Accuracy Val: 0.6000 | - Domain Loss: 0.0009\n",
      "🟡 No improvement for 60 epochs.\n",
      "Epoch [62/600] - Train Loss: 113954.2500, Train F1: 0.3333 | adversarial F1 : 0.3333 | Val Loss: 0.6722, Val F1: 0.4333 | Time: 0.1s | Balanced Accuracy Val: 0.6000 | - Domain Loss: 0.0010\n",
      "🟡 No improvement for 61 epochs.\n",
      "Epoch [63/600] - Train Loss: 113078.8750, Train F1: 0.3287 | adversarial F1 : 0.3510 | Val Loss: 0.6722, Val F1: 0.4333 | Time: 0.1s | Balanced Accuracy Val: 0.6000 | - Domain Loss: 0.0012\n",
      "🟡 No improvement for 62 epochs.\n",
      "Epoch [64/600] - Train Loss: 112118.4453, Train F1: 0.3725 | adversarial F1 : 0.3561 | Val Loss: 0.6722, Val F1: 0.4333 | Time: 0.1s | Balanced Accuracy Val: 0.6000 | - Domain Loss: 0.0009\n",
      "🟡 No improvement for 63 epochs.\n",
      "Epoch [65/600] - Train Loss: 111979.4375, Train F1: 0.3780 | adversarial F1 : 0.3333 | Val Loss: 0.6722, Val F1: 0.4333 | Time: 0.1s | Balanced Accuracy Val: 0.6000 | - Domain Loss: 0.0014\n",
      "🟡 No improvement for 64 epochs.\n",
      "Epoch [66/600] - Train Loss: 110357.9609, Train F1: 0.3510 | adversarial F1 : 0.3561 | Val Loss: 0.6722, Val F1: 0.4333 | Time: 0.1s | Balanced Accuracy Val: 0.6000 | - Domain Loss: 0.0010\n",
      "🟡 No improvement for 65 epochs.\n",
      "Epoch [67/600] - Train Loss: 111182.7344, Train F1: 0.3725 | adversarial F1 : 0.3561 | Val Loss: 0.6722, Val F1: 0.4333 | Time: 0.1s | Balanced Accuracy Val: 0.6000 | - Domain Loss: 0.0011\n",
      "🟡 No improvement for 66 epochs.\n",
      "Epoch [68/600] - Train Loss: 113185.7188, Train F1: 0.3287 | adversarial F1 : 0.3239 | Val Loss: 0.6722, Val F1: 0.4333 | Time: 0.1s | Balanced Accuracy Val: 0.6000 | - Domain Loss: 0.0009\n",
      "🟡 No improvement for 67 epochs.\n",
      "Epoch [69/600] - Train Loss: 110736.5781, Train F1: 0.3333 | adversarial F1 : 0.3561 | Val Loss: 0.6722, Val F1: 0.4333 | Time: 0.1s | Balanced Accuracy Val: 0.6000 | - Domain Loss: 0.0014\n",
      "🟡 No improvement for 68 epochs.\n",
      "Epoch [70/600] - Train Loss: 112178.2578, Train F1: 0.3510 | adversarial F1 : 0.3287 | Val Loss: 0.6722, Val F1: 0.4333 | Time: 0.1s | Balanced Accuracy Val: 0.6000 | - Domain Loss: 0.0011\n",
      "🟡 No improvement for 69 epochs.\n",
      "Epoch [71/600] - Train Loss: 111425.1719, Train F1: 0.3561 | adversarial F1 : 0.3934 | Val Loss: 0.6722, Val F1: 0.4333 | Time: 0.1s | Balanced Accuracy Val: 0.6000 | - Domain Loss: 0.0010\n",
      "🟡 No improvement for 70 epochs.\n",
      "Epoch [72/600] - Train Loss: 112722.4844, Train F1: 0.3287 | adversarial F1 : 0.3333 | Val Loss: 0.6722, Val F1: 0.4333 | Time: 0.1s | Balanced Accuracy Val: 0.6000 | - Domain Loss: 0.0015\n",
      "🟡 No improvement for 71 epochs.\n",
      "Epoch [73/600] - Train Loss: 111665.5938, Train F1: 0.3333 | adversarial F1 : 0.3333 | Val Loss: 0.6721, Val F1: 0.4333 | Time: 0.1s | Balanced Accuracy Val: 0.6000 | - Domain Loss: 0.0014\n",
      "🟡 No improvement for 72 epochs.\n",
      "Epoch [74/600] - Train Loss: 113782.0078, Train F1: 0.3287 | adversarial F1 : 0.3333 | Val Loss: 0.6721, Val F1: 0.4333 | Time: 0.1s | Balanced Accuracy Val: 0.6000 | - Domain Loss: 0.0008\n",
      "🟡 No improvement for 73 epochs.\n",
      "Epoch [75/600] - Train Loss: 111237.2734, Train F1: 0.3333 | adversarial F1 : 0.3333 | Val Loss: 0.6721, Val F1: 0.4333 | Time: 0.1s | Balanced Accuracy Val: 0.6000 | - Domain Loss: 0.0011\n",
      "🟡 No improvement for 74 epochs.\n",
      "Epoch [76/600] - Train Loss: 112677.0078, Train F1: 0.3561 | adversarial F1 : 0.3510 | Val Loss: 0.6721, Val F1: 0.4333 | Time: 0.1s | Balanced Accuracy Val: 0.6000 | - Domain Loss: 0.0014\n",
      "🟡 No improvement for 75 epochs.\n",
      "Epoch [77/600] - Train Loss: 109163.9766, Train F1: 0.3561 | adversarial F1 : 0.3287 | Val Loss: 0.6721, Val F1: 0.4333 | Time: 0.1s | Balanced Accuracy Val: 0.6000 | - Domain Loss: 0.0014\n",
      "🟡 No improvement for 76 epochs.\n",
      "Epoch [78/600] - Train Loss: 110157.7344, Train F1: 0.3510 | adversarial F1 : 0.3510 | Val Loss: 0.6721, Val F1: 0.4333 | Time: 0.1s | Balanced Accuracy Val: 0.6000 | - Domain Loss: 0.0010\n",
      "🟡 No improvement for 77 epochs.\n",
      "Epoch [79/600] - Train Loss: 110389.9062, Train F1: 0.3333 | adversarial F1 : 0.3561 | Val Loss: 0.6722, Val F1: 0.4333 | Time: 0.1s | Balanced Accuracy Val: 0.6000 | - Domain Loss: 0.0012\n",
      "🟡 No improvement for 78 epochs.\n",
      "Epoch [80/600] - Train Loss: 110552.4375, Train F1: 0.3333 | adversarial F1 : 0.3780 | Val Loss: 0.6722, Val F1: 0.4333 | Time: 0.1s | Balanced Accuracy Val: 0.6000 | - Domain Loss: 0.0013\n",
      "🟡 No improvement for 79 epochs.\n",
      "Epoch [81/600] - Train Loss: 112039.4844, Train F1: 0.3561 | adversarial F1 : 0.3510 | Val Loss: 0.6722, Val F1: 0.4333 | Time: 0.1s | Balanced Accuracy Val: 0.6000 | - Domain Loss: 0.0010\n",
      "🟡 No improvement for 80 epochs.\n",
      "Epoch [82/600] - Train Loss: 114414.9062, Train F1: 0.3239 | adversarial F1 : 0.3287 | Val Loss: 0.6722, Val F1: 0.4333 | Time: 0.1s | Balanced Accuracy Val: 0.6000 | - Domain Loss: 0.0012\n",
      "🟡 No improvement for 81 epochs.\n",
      "Epoch [83/600] - Train Loss: 111993.7656, Train F1: 0.3333 | adversarial F1 : 0.3780 | Val Loss: 0.6722, Val F1: 0.4333 | Time: 0.1s | Balanced Accuracy Val: 0.6000 | - Domain Loss: 0.0011\n",
      "🟡 No improvement for 82 epochs.\n",
      "Epoch [84/600] - Train Loss: 112479.7188, Train F1: 0.3287 | adversarial F1 : 0.3333 | Val Loss: 0.6722, Val F1: 0.4333 | Time: 0.1s | Balanced Accuracy Val: 0.6000 | - Domain Loss: 0.0012\n",
      "🟡 No improvement for 83 epochs.\n",
      "Epoch [85/600] - Train Loss: 111772.3203, Train F1: 0.3333 | adversarial F1 : 0.3333 | Val Loss: 0.6722, Val F1: 0.4333 | Time: 0.1s | Balanced Accuracy Val: 0.6000 | - Domain Loss: 0.0009\n",
      "🟡 No improvement for 84 epochs.\n",
      "Epoch [86/600] - Train Loss: 109878.9375, Train F1: 0.3333 | adversarial F1 : 0.3780 | Val Loss: 0.6722, Val F1: 0.4333 | Time: 0.1s | Balanced Accuracy Val: 0.6000 | - Domain Loss: 0.0013\n",
      "🟡 No improvement for 85 epochs.\n",
      "Epoch [87/600] - Train Loss: 110391.1172, Train F1: 0.3561 | adversarial F1 : 0.3287 | Val Loss: 0.6722, Val F1: 0.4333 | Time: 0.1s | Balanced Accuracy Val: 0.6000 | - Domain Loss: 0.0011\n",
      "🟡 No improvement for 86 epochs.\n",
      "Epoch [88/600] - Train Loss: 112144.8203, Train F1: 0.3333 | adversarial F1 : 0.3333 | Val Loss: 0.6721, Val F1: 0.4333 | Time: 0.1s | Balanced Accuracy Val: 0.6000 | - Domain Loss: 0.0012\n",
      "🟡 No improvement for 87 epochs.\n",
      "Epoch [89/600] - Train Loss: 109829.8984, Train F1: 0.3333 | adversarial F1 : 0.3510 | Val Loss: 0.6721, Val F1: 0.4333 | Time: 0.1s | Balanced Accuracy Val: 0.6000 | - Domain Loss: 0.0012\n",
      "🟡 No improvement for 88 epochs.\n",
      "Epoch [90/600] - Train Loss: 114546.6094, Train F1: 0.3333 | adversarial F1 : 0.3333 | Val Loss: 0.6721, Val F1: 0.4333 | Time: 0.1s | Balanced Accuracy Val: 0.6000 | - Domain Loss: 0.0012\n",
      "🟡 No improvement for 89 epochs.\n",
      "Epoch [91/600] - Train Loss: 112820.2109, Train F1: 0.3333 | adversarial F1 : 0.3333 | Val Loss: 0.6722, Val F1: 0.4333 | Time: 0.1s | Balanced Accuracy Val: 0.6000 | - Domain Loss: 0.0008\n",
      "🟡 No improvement for 90 epochs.\n",
      "Epoch [92/600] - Train Loss: 113251.2266, Train F1: 0.3561 | adversarial F1 : 0.3458 | Val Loss: 0.6722, Val F1: 0.4333 | Time: 0.1s | Balanced Accuracy Val: 0.6000 | - Domain Loss: 0.0010\n",
      "🟡 No improvement for 91 epochs.\n",
      "Epoch [93/600] - Train Loss: 112456.2734, Train F1: 0.3239 | adversarial F1 : 0.3287 | Val Loss: 0.6722, Val F1: 0.4333 | Time: 0.1s | Balanced Accuracy Val: 0.6000 | - Domain Loss: 0.0011\n",
      "🟡 No improvement for 92 epochs.\n",
      "Epoch [94/600] - Train Loss: 112484.9375, Train F1: 0.3561 | adversarial F1 : 0.3561 | Val Loss: 0.6722, Val F1: 0.4333 | Time: 0.1s | Balanced Accuracy Val: 0.6000 | - Domain Loss: 0.0011\n",
      "🟡 No improvement for 93 epochs.\n",
      "Epoch [95/600] - Train Loss: 110401.1328, Train F1: 0.3725 | adversarial F1 : 0.3287 | Val Loss: 0.6722, Val F1: 0.4333 | Time: 0.1s | Balanced Accuracy Val: 0.6000 | - Domain Loss: 0.0010\n",
      "🟡 No improvement for 94 epochs.\n",
      "Epoch [96/600] - Train Loss: 111389.0391, Train F1: 0.3333 | adversarial F1 : 0.3561 | Val Loss: 0.6722, Val F1: 0.4333 | Time: 0.1s | Balanced Accuracy Val: 0.6000 | - Domain Loss: 0.0009\n",
      "🟡 No improvement for 95 epochs.\n",
      "Epoch [97/600] - Train Loss: 111107.1094, Train F1: 0.3561 | adversarial F1 : 0.3287 | Val Loss: 0.6722, Val F1: 0.4333 | Time: 0.1s | Balanced Accuracy Val: 0.6000 | - Domain Loss: 0.0011\n",
      "🟡 No improvement for 96 epochs.\n",
      "Epoch [98/600] - Train Loss: 111956.7500, Train F1: 0.3239 | adversarial F1 : 0.3780 | Val Loss: 0.6722, Val F1: 0.4333 | Time: 0.1s | Balanced Accuracy Val: 0.6000 | - Domain Loss: 0.0013\n",
      "🟡 No improvement for 97 epochs.\n",
      "Epoch [99/600] - Train Loss: 112412.0312, Train F1: 0.3287 | adversarial F1 : 0.3333 | Val Loss: 0.6722, Val F1: 0.4333 | Time: 0.1s | Balanced Accuracy Val: 0.6000 | - Domain Loss: 0.0011\n",
      "🟡 No improvement for 98 epochs.\n",
      "Epoch [100/600] - Train Loss: 112825.4844, Train F1: 0.3333 | adversarial F1 : 0.3287 | Val Loss: 0.6722, Val F1: 0.4333 | Time: 0.1s | Balanced Accuracy Val: 0.6000 | - Domain Loss: 0.0011\n",
      "🟡 No improvement for 99 epochs.\n",
      "Epoch [101/600] - Train Loss: 111875.5703, Train F1: 0.3561 | adversarial F1 : 0.3992 | Val Loss: 0.6722, Val F1: 0.4333 | Time: 0.1s | Balanced Accuracy Val: 0.6000 | - Domain Loss: 0.0015\n",
      "🟡 No improvement for 100 epochs.\n",
      "🔴 Early stopping triggered after 102 epochs. Best Balanced Accuracy: 0.5167 at epoch 2\n",
      "\n",
      "--- Training Finished ---\n",
      "Best validation Balanced Accuracy: 0.5167 achieved at Epoch 2\n"
     ]
    },
    {
     "data": {
      "text/plain": [
       "np.float64(0.5166666666666666)"
      ]
     },
     "execution_count": 23,
     "metadata": {},
     "output_type": "execute_result"
    }
   ],
   "source": [
    "from torch.nn import CrossEntropyLoss\n",
    "from torch.optim.lr_scheduler import *\n",
    "save_path=os.path.join(\"tuned_checkpoints\",\"model_1_mi\")\n",
    "training_loop_params = {\n",
    "    \"criterion\": CrossEntropyLoss(reduction=\"none\"),\n",
    "\n",
    "\n",
    "    \"optimizer_class\": Adam,\n",
    "    \"optimizer_config\": {\n",
    "        \"lr\": 0.002,\n",
    "        \"weight_decay\":1.6581884226239174e-05\n",
    "    },\n",
    "\n",
    "\n",
    "    \"scheduler_class\": CosineAnnealingLR,\n",
    "    \"scheduler_config\":  {\n",
    "            \"T_max\": 121,\n",
    "            \"eta_min\": 0.00019632120929158656\n",
    "        },\n",
    "\n",
    "    \"window_len\": num_windows_per_trial,\n",
    "    \"n_epochs\": 600,\n",
    "    \"patience\": 100 ,\n",
    "    \"domain_lambda\": 0.05,\n",
    "    \"lambda_scheduler_fn\": None,\n",
    "    \"adversarial_steps\": 1,\n",
    "    \"adversarial_epsilon\": 0.1,\n",
    "    \"adversarial_alpha\": 0.005,\n",
    "    \"adversarial_training\": True,\n",
    "    \"save_best_only\": True,\n",
    "    \"save_path\": save_path,\n",
    "    \"n_classes\": 2,\n",
    "    \"device\": device,\n",
    "    \"update_loader\": (10, 100),\n",
    "    \"scheduler_fn\": None ,\n",
    "    \"tensorboard\":True,\n",
    "}\n",
    "\n",
    "train_model(model_mi_1,\n",
    "        train_loader=train_loader,\n",
    "        val_loader=val_loader,\n",
    "        original_val_labels=trial_level_labels,\n",
    "        **training_loop_params\n",
    "    )\n"
   ]
  },
  {
   "cell_type": "code",
   "execution_count": 24,
   "id": "60f1c5bf",
   "metadata": {},
   "outputs": [
    {
     "name": "stdout",
     "output_type": "stream",
     "text": [
      "extracting data for futher preprocessing...\n",
      "\n"
     ]
    }
   ],
   "source": [
    "print(\"extracting data for futher preprocessing...\",end = \"\\n\\n\")\n",
    "\n",
    "mapping_ssvep = {\n",
    "    \"Backward\":0,\n",
    "    \"Forward\":1,\n",
    "    \"Left\":2,\n",
    "    \"Right\":3\n",
    "}\n",
    "inverse_mapping_mi = {\n",
    "    v:k for k , v in mapping_mi.items()\n",
    "} \n",
    "\n",
    "\n",
    "\n",
    "\n",
    "\n",
    "from utils.preprocessing import SignalPreprocessor\n",
    "train_mi_new = pd.read_csv(\"../data_my_head/SSVEP/1/EEGdata.csv\")\n",
    "train_labels_new = pd.read_csv(\"../data_my_head/SSVEP/1/trial_labels.csv\")\n",
    "val_mi = pd.read_csv(\"../data_my_head/SSVEP/2/EEGdata.csv\")\n",
    "val_labels = pd.read_csv(\"../data_my_head/SSVEP/2/trial_labels.csv\")\n",
    "\n",
    "\n",
    "mapping_ssvep = {\n",
    "    \"Backward\":0,\n",
    "    \"Forward\":1,\n",
    "    \"Left\":2,\n",
    "    \"Right\":3\n",
    "}\n",
    "trial_df = pd.concat([\n",
    "    train_mi_new , val_mi\n",
    "]).reset_index(drop=True)\n",
    "\n",
    "labels_trial_df = pd.concat([\n",
    "    train_labels_new , val_labels\n",
    "]).reset_index(drop=True)\n",
    "\n",
    "\n",
    "preprocessor = SignalPreprocessor(\n",
    "    fs=250,                                                 \n",
    "    bandpass_low=8,                     \n",
    "    bandpass_high=14,                  \n",
    "    n_cols_to_filter=4,                   \n",
    "    window_size=500,                      \n",
    "    window_stride=50,                    \n",
    "    idx_to_ignore_normalization=-1,        \n",
    "    crop_range=(1.5 , 6)            \n",
    ")\n",
    "\n",
    "\n",
    "input_array , labels , subject_ids , weigths  , num_windows_per_trial = preprocess_fast(\n",
    "        trial_df,\n",
    "        labels_trial_df,\n",
    "        mapping=mapping_ssvep,\n",
    "        task=\"SSVEP\",\n",
    "        signal_processer = preprocessor\n",
    "        )\n"
   ]
  },
  {
   "cell_type": "code",
   "execution_count": null,
   "id": "61b718f6",
   "metadata": {},
   "outputs": [
    {
     "data": {
      "text/plain": [
       "array([2, 0, 3, 3, 3, 2, 3, 3, 2, 1])"
      ]
     },
     "execution_count": 108,
     "metadata": {},
     "output_type": "execute_result"
    }
   ],
   "source": []
  },
  {
   "cell_type": "code",
   "execution_count": 109,
   "id": "8085a220",
   "metadata": {},
   "outputs": [
    {
     "name": "stdout",
     "output_type": "stream",
     "text": [
      "Data Preparation.... Wrapping preprocessed data inside tensor datasets....\n",
      "\n"
     ]
    }
   ],
   "source": [
    "from utils.CustomDataset import EEGDataset\n",
    "from utils.augmentation import augment_data\n",
    "\n",
    "\n",
    "print(\"Data Preparation.... Wrapping preprocessed data inside tensor datasets....\",end = \"\\n\\n\")\n",
    "\n",
    "\n",
    "from torch.utils.data import DataLoader\n",
    "from utils.CustomDataset import EEGDataset\n",
    "from torch.nn import *\n",
    "from torch.optim.lr_scheduler import *\n",
    "n_trials_to_choose = 12\n",
    "n_windows_to_choose = num_windows_per_trial*n_trials_to_choose\n",
    "training_dataset = EEGDataset(\n",
    "    data_tensor=input_array[:n_windows_to_choose, : , :],\n",
    "    weigths=weigths[:n_windows_to_choose],\n",
    "    label_tensor = labels[:n_windows_to_choose],\n",
    "    subject_labels=subject_ids[:n_windows_to_choose]\n",
    "    \n",
    "    )\n",
    "\n",
    "val_dataset = EEGDataset(\n",
    "    data_tensor=input_array[n_windows_to_choose:, : , :],\n",
    "    weigths=weigths[n_windows_to_choose:],\n",
    "    label_tensor = labels[n_windows_to_choose:],\n",
    "    subject_labels=subject_ids[n_windows_to_choose:]\n",
    ")\n",
    "\n",
    "trial_level_labels = val_labels.direction.map(mapping_ssvep).values\n",
    "\n",
    "train_loader = DataLoader(training_dataset , batch_size=3 , shuffle = True)\n",
    "val_loader = DataLoader(val_dataset , batch_size=val_dataset.__len__() , shuffle = False)"
   ]
  },
  {
   "cell_type": "code",
   "execution_count": 59,
   "id": "188cb0ff",
   "metadata": {},
   "outputs": [
    {
     "data": {
      "text/plain": [
       "tensor([1, 1, 1, 1, 1, 1, 1, 1, 1, 1, 1, 1, 1, 3, 3, 3, 3, 3, 3, 3, 3, 3, 3, 3,\n",
       "        3, 3, 1, 1, 1, 1, 1, 1, 1, 1, 1, 1, 1, 1, 1, 2, 2, 2, 2, 2, 2, 2, 2, 2,\n",
       "        2, 2, 2, 2, 3, 3, 3, 3, 3, 3, 3, 3, 3, 3, 3, 3, 3, 2, 2, 2, 2, 2, 2, 2,\n",
       "        2, 2, 2, 2, 2, 2, 1, 1, 1, 1, 1, 1, 1, 1, 1, 1, 1, 1, 1, 0, 0, 0, 0, 0,\n",
       "        0, 0, 0, 0, 0, 0, 0, 0, 3, 3, 3, 3, 3, 3, 3, 3, 3, 3, 3, 3, 3, 0, 0, 0,\n",
       "        0, 0, 0, 0, 0, 0, 0, 0, 0, 0, 2, 2, 2, 2, 2, 2, 2, 2, 2, 2, 2, 2, 2])"
      ]
     },
     "execution_count": 59,
     "metadata": {},
     "output_type": "execute_result"
    }
   ],
   "source": [
    "labels[:n_windows_to_choose:]"
   ]
  },
  {
   "cell_type": "code",
   "execution_count": 63,
   "id": "0d03e14e",
   "metadata": {},
   "outputs": [],
   "source": [
    "from model.MTCformerV2 import MTCFormer\n",
    "from torch.optim.lr_scheduler import *\n",
    "from utils.training import train_model \n",
    "model_ssvep = MTCFormer(\n",
    "    depth=5,\n",
    "    kernel_size=50,\n",
    "    n_times=500,\n",
    "    chs_num=7,\n",
    "    eeg_ch_nums=4,\n",
    "    class_num=4,\n",
    "    class_num_domain=30,\n",
    "    modulator_kernel_size=30,\n",
    "    domain_dropout=0.4,\n",
    "    modulator_dropout=0.4,\n",
    "    mid_dropout=0.4,\n",
    "    output_dropout=0.6,\n",
    "    k=100,\n",
    "    projection_dimention=2,\n",
    "    seed = 5445\n",
    ").to(device)\n",
    "optimizer = Adam(model_ssvep.parameters(), lr=0.002)\n",
    "\n",
    "checkpoint_path = os.path.join(\n",
    "    \"..\",\n",
    "    \"checkpoints\",\n",
    "    \"model_ssvep_checkpoint\",\n",
    "    \"best_model_.pth\"\n",
    "    )\n",
    "\n",
    "checkpoint = torch.load(checkpoint_path, weights_only=False)\n",
    "\n",
    "model_ssvep.load_state_dict(checkpoint['model_state_dict'] , strict=False)\n",
    "\n",
    "\n",
    "for i , param in enumerate(model_mi_1.parameters()):\n",
    "    if i >50:\n",
    "        break\n",
    "    param.requires_grad = False"
   ]
  },
  {
   "cell_type": "code",
   "execution_count": 64,
   "id": "abe6023b",
   "metadata": {},
   "outputs": [
    {
     "name": "stdout",
     "output_type": "stream",
     "text": [
      "Total Parameters of the Model ======> 1,351,110 paramaters\n",
      "Path Exists. Contents of this folder will be modified save_path is :  tuned_checkpoints/model_ssvep\n",
      "--- Starting Training Loop ---\n"
     ]
    },
    {
     "name": "stderr",
     "output_type": "stream",
     "text": [
      "/home/mohammed_ahmed/miniconda3/envs/Competition_environment/lib/python3.10/site-packages/sklearn/metrics/_classification.py:2524: UserWarning: y_pred contains classes not in y_true\n",
      "  warnings.warn(\"y_pred contains classes not in y_true\")\n"
     ]
    },
    {
     "name": "stdout",
     "output_type": "stream",
     "text": [
      "✅ Best checkpoint updated (save_best_only=True). at  tuned_checkpoints/model_ssvep\n",
      "🟢 Validation Balanced Accuracy improved. Saving best model state...\n",
      "Epoch [1/600] - Train Loss: 202359.8548, Train F1: 0.3177 | adversarial F1 : 0.3061 | Val Loss: 1.4450, Val F1: 0.0000 | Time: 2.3s | Balanced Accuracy Val: 0.0000 | - Domain Loss: 0.1665\n"
     ]
    },
    {
     "name": "stderr",
     "output_type": "stream",
     "text": [
      "/home/mohammed_ahmed/miniconda3/envs/Competition_environment/lib/python3.10/site-packages/sklearn/metrics/_classification.py:2524: UserWarning: y_pred contains classes not in y_true\n",
      "  warnings.warn(\"y_pred contains classes not in y_true\")\n"
     ]
    },
    {
     "name": "stdout",
     "output_type": "stream",
     "text": [
      "✅ Best checkpoint updated (save_best_only=True). at  tuned_checkpoints/model_ssvep\n",
      "🟢 Validation Balanced Accuracy improved. Saving best model state...\n",
      "Epoch [2/600] - Train Loss: 128734.8483, Train F1: 0.3544 | adversarial F1 : 0.3563 | Val Loss: 1.4602, Val F1: 0.0373 | Time: 1.9s | Balanced Accuracy Val: 0.0103 | - Domain Loss: 0.0291\n"
     ]
    },
    {
     "name": "stderr",
     "output_type": "stream",
     "text": [
      "/home/mohammed_ahmed/miniconda3/envs/Competition_environment/lib/python3.10/site-packages/sklearn/metrics/_classification.py:2524: UserWarning: y_pred contains classes not in y_true\n",
      "  warnings.warn(\"y_pred contains classes not in y_true\")\n"
     ]
    },
    {
     "name": "stdout",
     "output_type": "stream",
     "text": [
      "✅ Best checkpoint updated (save_best_only=True). at  tuned_checkpoints/model_ssvep\n",
      "🟢 Validation Balanced Accuracy improved. Saving best model state...\n",
      "Epoch [3/600] - Train Loss: 97142.1109, Train F1: 0.4125 | adversarial F1 : 0.4509 | Val Loss: 1.4292, Val F1: 0.0725 | Time: 2.1s | Balanced Accuracy Val: 0.0205 | - Domain Loss: 0.0135\n"
     ]
    },
    {
     "name": "stderr",
     "output_type": "stream",
     "text": [
      "/home/mohammed_ahmed/miniconda3/envs/Competition_environment/lib/python3.10/site-packages/sklearn/metrics/_classification.py:2524: UserWarning: y_pred contains classes not in y_true\n",
      "  warnings.warn(\"y_pred contains classes not in y_true\")\n"
     ]
    },
    {
     "name": "stdout",
     "output_type": "stream",
     "text": [
      "🟡 No improvement for 1 epochs.\n",
      "Epoch [4/600] - Train Loss: 67687.9149, Train F1: 0.4591 | adversarial F1 : 0.4684 | Val Loss: 1.5307, Val F1: 0.0189 | Time: 2.0s | Balanced Accuracy Val: 0.0051 | - Domain Loss: 0.0304\n"
     ]
    },
    {
     "name": "stderr",
     "output_type": "stream",
     "text": [
      "/home/mohammed_ahmed/miniconda3/envs/Competition_environment/lib/python3.10/site-packages/sklearn/metrics/_classification.py:2524: UserWarning: y_pred contains classes not in y_true\n",
      "  warnings.warn(\"y_pred contains classes not in y_true\")\n"
     ]
    },
    {
     "name": "stdout",
     "output_type": "stream",
     "text": [
      "🟡 No improvement for 2 epochs.\n",
      "Epoch [5/600] - Train Loss: 37785.4634, Train F1: 0.5075 | adversarial F1 : 0.4889 | Val Loss: 1.5702, Val F1: 0.0189 | Time: 2.0s | Balanced Accuracy Val: 0.0051 | - Domain Loss: 0.0369\n"
     ]
    },
    {
     "name": "stderr",
     "output_type": "stream",
     "text": [
      "/home/mohammed_ahmed/miniconda3/envs/Competition_environment/lib/python3.10/site-packages/sklearn/metrics/_classification.py:2524: UserWarning: y_pred contains classes not in y_true\n",
      "  warnings.warn(\"y_pred contains classes not in y_true\")\n"
     ]
    },
    {
     "name": "stdout",
     "output_type": "stream",
     "text": [
      "🟡 No improvement for 3 epochs.\n",
      "Epoch [6/600] - Train Loss: 32222.4058, Train F1: 0.4875 | adversarial F1 : 0.4766 | Val Loss: 1.5354, Val F1: 0.0189 | Time: 1.9s | Balanced Accuracy Val: 0.0051 | - Domain Loss: 0.0048\n"
     ]
    },
    {
     "name": "stderr",
     "output_type": "stream",
     "text": [
      "/home/mohammed_ahmed/miniconda3/envs/Competition_environment/lib/python3.10/site-packages/sklearn/metrics/_classification.py:2524: UserWarning: y_pred contains classes not in y_true\n",
      "  warnings.warn(\"y_pred contains classes not in y_true\")\n"
     ]
    },
    {
     "name": "stdout",
     "output_type": "stream",
     "text": [
      "🟡 No improvement for 4 epochs.\n",
      "Epoch [7/600] - Train Loss: 34035.0912, Train F1: 0.5040 | adversarial F1 : 0.4899 | Val Loss: 1.5369, Val F1: 0.0373 | Time: 2.1s | Balanced Accuracy Val: 0.0103 | - Domain Loss: 0.0005\n"
     ]
    },
    {
     "name": "stderr",
     "output_type": "stream",
     "text": [
      "/home/mohammed_ahmed/miniconda3/envs/Competition_environment/lib/python3.10/site-packages/sklearn/metrics/_classification.py:2524: UserWarning: y_pred contains classes not in y_true\n",
      "  warnings.warn(\"y_pred contains classes not in y_true\")\n"
     ]
    },
    {
     "name": "stdout",
     "output_type": "stream",
     "text": [
      "🟡 No improvement for 5 epochs.\n",
      "Epoch [8/600] - Train Loss: 11665.4046, Train F1: 0.5324 | adversarial F1 : 0.4802 | Val Loss: 1.5499, Val F1: 0.0373 | Time: 2.1s | Balanced Accuracy Val: 0.0103 | - Domain Loss: 0.0034\n"
     ]
    },
    {
     "name": "stderr",
     "output_type": "stream",
     "text": [
      "/home/mohammed_ahmed/miniconda3/envs/Competition_environment/lib/python3.10/site-packages/sklearn/metrics/_classification.py:2524: UserWarning: y_pred contains classes not in y_true\n",
      "  warnings.warn(\"y_pred contains classes not in y_true\")\n"
     ]
    },
    {
     "name": "stdout",
     "output_type": "stream",
     "text": [
      "🟡 No improvement for 6 epochs.\n",
      "Epoch [9/600] - Train Loss: 10454.8047, Train F1: 0.5356 | adversarial F1 : 0.5203 | Val Loss: 1.5754, Val F1: 0.0373 | Time: 2.2s | Balanced Accuracy Val: 0.0103 | - Domain Loss: 0.0012\n"
     ]
    },
    {
     "name": "stderr",
     "output_type": "stream",
     "text": [
      "/home/mohammed_ahmed/miniconda3/envs/Competition_environment/lib/python3.10/site-packages/sklearn/metrics/_classification.py:2524: UserWarning: y_pred contains classes not in y_true\n",
      "  warnings.warn(\"y_pred contains classes not in y_true\")\n"
     ]
    },
    {
     "name": "stdout",
     "output_type": "stream",
     "text": [
      "🟡 No improvement for 7 epochs.\n",
      "Epoch [10/600] - Train Loss: 18607.9756, Train F1: 0.5245 | adversarial F1 : 0.5327 | Val Loss: 1.6062, Val F1: 0.0189 | Time: 2.1s | Balanced Accuracy Val: 0.0051 | - Domain Loss: 0.0012\n"
     ]
    },
    {
     "name": "stderr",
     "output_type": "stream",
     "text": [
      "/home/mohammed_ahmed/miniconda3/envs/Competition_environment/lib/python3.10/site-packages/sklearn/metrics/_classification.py:2524: UserWarning: y_pred contains classes not in y_true\n",
      "  warnings.warn(\"y_pred contains classes not in y_true\")\n"
     ]
    },
    {
     "name": "stdout",
     "output_type": "stream",
     "text": [
      "🟡 No improvement for 8 epochs.\n",
      "Epoch [11/600] - Train Loss: 13839.9081, Train F1: 0.5336 | adversarial F1 : 0.4988 | Val Loss: 1.6185, Val F1: 0.0189 | Time: 1.9s | Balanced Accuracy Val: 0.0051 | - Domain Loss: 0.0015\n"
     ]
    },
    {
     "name": "stderr",
     "output_type": "stream",
     "text": [
      "/home/mohammed_ahmed/miniconda3/envs/Competition_environment/lib/python3.10/site-packages/sklearn/metrics/_classification.py:2524: UserWarning: y_pred contains classes not in y_true\n",
      "  warnings.warn(\"y_pred contains classes not in y_true\")\n"
     ]
    },
    {
     "name": "stdout",
     "output_type": "stream",
     "text": [
      "🟡 No improvement for 9 epochs.\n",
      "Epoch [12/600] - Train Loss: 3212.2289, Train F1: 0.5327 | adversarial F1 : 0.5459 | Val Loss: 1.5497, Val F1: 0.0725 | Time: 1.9s | Balanced Accuracy Val: 0.0205 | - Domain Loss: 0.0003\n"
     ]
    },
    {
     "name": "stderr",
     "output_type": "stream",
     "text": [
      "/home/mohammed_ahmed/miniconda3/envs/Competition_environment/lib/python3.10/site-packages/sklearn/metrics/_classification.py:2524: UserWarning: y_pred contains classes not in y_true\n",
      "  warnings.warn(\"y_pred contains classes not in y_true\")\n"
     ]
    },
    {
     "name": "stdout",
     "output_type": "stream",
     "text": [
      "🟡 No improvement for 10 epochs.\n",
      "Epoch [13/600] - Train Loss: 7170.4608, Train F1: 0.5446 | adversarial F1 : 0.5249 | Val Loss: 1.5592, Val F1: 0.0725 | Time: 1.7s | Balanced Accuracy Val: 0.0205 | - Domain Loss: 0.0009\n"
     ]
    },
    {
     "name": "stderr",
     "output_type": "stream",
     "text": [
      "/home/mohammed_ahmed/miniconda3/envs/Competition_environment/lib/python3.10/site-packages/sklearn/metrics/_classification.py:2524: UserWarning: y_pred contains classes not in y_true\n",
      "  warnings.warn(\"y_pred contains classes not in y_true\")\n"
     ]
    },
    {
     "name": "stdout",
     "output_type": "stream",
     "text": [
      "🟡 No improvement for 11 epochs.\n",
      "Epoch [14/600] - Train Loss: 17949.6081, Train F1: 0.5505 | adversarial F1 : 0.5229 | Val Loss: 1.6644, Val F1: 0.0189 | Time: 2.2s | Balanced Accuracy Val: 0.0051 | - Domain Loss: 0.0046\n"
     ]
    },
    {
     "name": "stderr",
     "output_type": "stream",
     "text": [
      "/home/mohammed_ahmed/miniconda3/envs/Competition_environment/lib/python3.10/site-packages/sklearn/metrics/_classification.py:2524: UserWarning: y_pred contains classes not in y_true\n",
      "  warnings.warn(\"y_pred contains classes not in y_true\")\n"
     ]
    },
    {
     "name": "stdout",
     "output_type": "stream",
     "text": [
      "🟡 No improvement for 12 epochs.\n",
      "Epoch [15/600] - Train Loss: 14983.4355, Train F1: 0.5124 | adversarial F1 : 0.5247 | Val Loss: 1.6401, Val F1: 0.0189 | Time: 2.0s | Balanced Accuracy Val: 0.0051 | - Domain Loss: 0.0002\n"
     ]
    },
    {
     "name": "stderr",
     "output_type": "stream",
     "text": [
      "/home/mohammed_ahmed/miniconda3/envs/Competition_environment/lib/python3.10/site-packages/sklearn/metrics/_classification.py:2524: UserWarning: y_pred contains classes not in y_true\n",
      "  warnings.warn(\"y_pred contains classes not in y_true\")\n"
     ]
    },
    {
     "name": "stdout",
     "output_type": "stream",
     "text": [
      "🟡 No improvement for 13 epochs.\n",
      "Epoch [16/600] - Train Loss: 3774.4271, Train F1: 0.5311 | adversarial F1 : 0.5349 | Val Loss: 1.6341, Val F1: 0.0189 | Time: 1.7s | Balanced Accuracy Val: 0.0051 | - Domain Loss: 0.0001\n"
     ]
    },
    {
     "name": "stderr",
     "output_type": "stream",
     "text": [
      "/home/mohammed_ahmed/miniconda3/envs/Competition_environment/lib/python3.10/site-packages/sklearn/metrics/_classification.py:2524: UserWarning: y_pred contains classes not in y_true\n",
      "  warnings.warn(\"y_pred contains classes not in y_true\")\n"
     ]
    },
    {
     "name": "stdout",
     "output_type": "stream",
     "text": [
      "🟡 No improvement for 14 epochs.\n",
      "Epoch [17/600] - Train Loss: 2939.9902, Train F1: 0.5393 | adversarial F1 : 0.5311 | Val Loss: 1.6292, Val F1: 0.0189 | Time: 1.8s | Balanced Accuracy Val: 0.0051 | - Domain Loss: 0.0012\n"
     ]
    },
    {
     "name": "stderr",
     "output_type": "stream",
     "text": [
      "/home/mohammed_ahmed/miniconda3/envs/Competition_environment/lib/python3.10/site-packages/sklearn/metrics/_classification.py:2524: UserWarning: y_pred contains classes not in y_true\n",
      "  warnings.warn(\"y_pred contains classes not in y_true\")\n"
     ]
    },
    {
     "name": "stdout",
     "output_type": "stream",
     "text": [
      "🟡 No improvement for 15 epochs.\n",
      "Epoch [18/600] - Train Loss: 2455.7423, Train F1: 0.5299 | adversarial F1 : 0.5274 | Val Loss: 1.6308, Val F1: 0.0189 | Time: 2.1s | Balanced Accuracy Val: 0.0051 | - Domain Loss: 0.0004\n"
     ]
    },
    {
     "name": "stderr",
     "output_type": "stream",
     "text": [
      "/home/mohammed_ahmed/miniconda3/envs/Competition_environment/lib/python3.10/site-packages/sklearn/metrics/_classification.py:2524: UserWarning: y_pred contains classes not in y_true\n",
      "  warnings.warn(\"y_pred contains classes not in y_true\")\n"
     ]
    },
    {
     "name": "stdout",
     "output_type": "stream",
     "text": [
      "🟡 No improvement for 16 epochs.\n",
      "Epoch [19/600] - Train Loss: 1976.1682, Train F1: 0.5320 | adversarial F1 : 0.5342 | Val Loss: 1.6428, Val F1: 0.0189 | Time: 2.8s | Balanced Accuracy Val: 0.0051 | - Domain Loss: 0.0003\n"
     ]
    },
    {
     "name": "stderr",
     "output_type": "stream",
     "text": [
      "/home/mohammed_ahmed/miniconda3/envs/Competition_environment/lib/python3.10/site-packages/sklearn/metrics/_classification.py:2524: UserWarning: y_pred contains classes not in y_true\n",
      "  warnings.warn(\"y_pred contains classes not in y_true\")\n",
      "/home/mohammed_ahmed/miniconda3/envs/Competition_environment/lib/python3.10/site-packages/sklearn/metrics/_classification.py:2524: UserWarning: y_pred contains classes not in y_true\n",
      "  warnings.warn(\"y_pred contains classes not in y_true\")\n"
     ]
    },
    {
     "name": "stdout",
     "output_type": "stream",
     "text": [
      "🟡 No improvement for 17 epochs.\n",
      "Epoch [20/600] - Train Loss: 1598.5415, Train F1: 0.5205 | adversarial F1 : 0.5252 | Val Loss: 1.6553, Val F1: 0.0189 | Time: 2.2s | Balanced Accuracy Val: 0.0051 | - Domain Loss: 0.0003\n",
      "🟡 No improvement for 18 epochs.\n",
      "Epoch [21/600] - Train Loss: 981.0979, Train F1: 0.5251 | adversarial F1 : 0.5357 | Val Loss: 1.6554, Val F1: 0.0189 | Time: 0.1s | Balanced Accuracy Val: 0.0051 | - Domain Loss: 0.0005\n"
     ]
    },
    {
     "name": "stderr",
     "output_type": "stream",
     "text": [
      "/home/mohammed_ahmed/miniconda3/envs/Competition_environment/lib/python3.10/site-packages/sklearn/metrics/_classification.py:2524: UserWarning: y_pred contains classes not in y_true\n",
      "  warnings.warn(\"y_pred contains classes not in y_true\")\n",
      "/home/mohammed_ahmed/miniconda3/envs/Competition_environment/lib/python3.10/site-packages/sklearn/metrics/_classification.py:2524: UserWarning: y_pred contains classes not in y_true\n",
      "  warnings.warn(\"y_pred contains classes not in y_true\")\n"
     ]
    },
    {
     "name": "stdout",
     "output_type": "stream",
     "text": [
      "🟡 No improvement for 19 epochs.\n",
      "Epoch [22/600] - Train Loss: 2193.4669, Train F1: 0.5350 | adversarial F1 : 0.5204 | Val Loss: 1.6555, Val F1: 0.0189 | Time: 0.1s | Balanced Accuracy Val: 0.0051 | - Domain Loss: 0.0004\n",
      "🟡 No improvement for 20 epochs.\n",
      "Epoch [23/600] - Train Loss: 2708.1291, Train F1: 0.5376 | adversarial F1 : 0.5241 | Val Loss: 1.6556, Val F1: 0.0189 | Time: 0.2s | Balanced Accuracy Val: 0.0051 | - Domain Loss: 0.0009\n"
     ]
    },
    {
     "name": "stderr",
     "output_type": "stream",
     "text": [
      "/home/mohammed_ahmed/miniconda3/envs/Competition_environment/lib/python3.10/site-packages/sklearn/metrics/_classification.py:2524: UserWarning: y_pred contains classes not in y_true\n",
      "  warnings.warn(\"y_pred contains classes not in y_true\")\n",
      "/home/mohammed_ahmed/miniconda3/envs/Competition_environment/lib/python3.10/site-packages/sklearn/metrics/_classification.py:2524: UserWarning: y_pred contains classes not in y_true\n",
      "  warnings.warn(\"y_pred contains classes not in y_true\")\n",
      "/home/mohammed_ahmed/miniconda3/envs/Competition_environment/lib/python3.10/site-packages/sklearn/metrics/_classification.py:2524: UserWarning: y_pred contains classes not in y_true\n",
      "  warnings.warn(\"y_pred contains classes not in y_true\")\n"
     ]
    },
    {
     "name": "stdout",
     "output_type": "stream",
     "text": [
      "🟡 No improvement for 21 epochs.\n",
      "Epoch [24/600] - Train Loss: 2128.9395, Train F1: 0.5420 | adversarial F1 : 0.5331 | Val Loss: 1.6556, Val F1: 0.0189 | Time: 0.1s | Balanced Accuracy Val: 0.0051 | - Domain Loss: 0.0006\n",
      "🟡 No improvement for 22 epochs.\n",
      "Epoch [25/600] - Train Loss: 1751.2299, Train F1: 0.5280 | adversarial F1 : 0.5435 | Val Loss: 1.6556, Val F1: 0.0189 | Time: 0.1s | Balanced Accuracy Val: 0.0051 | - Domain Loss: 0.0005\n",
      "🟡 No improvement for 23 epochs.\n",
      "Epoch [26/600] - Train Loss: 2002.3940, Train F1: 0.5547 | adversarial F1 : 0.5226 | Val Loss: 1.6556, Val F1: 0.0189 | Time: 0.1s | Balanced Accuracy Val: 0.0051 | - Domain Loss: 0.0008\n"
     ]
    },
    {
     "name": "stderr",
     "output_type": "stream",
     "text": [
      "/home/mohammed_ahmed/miniconda3/envs/Competition_environment/lib/python3.10/site-packages/sklearn/metrics/_classification.py:2524: UserWarning: y_pred contains classes not in y_true\n",
      "  warnings.warn(\"y_pred contains classes not in y_true\")\n",
      "/home/mohammed_ahmed/miniconda3/envs/Competition_environment/lib/python3.10/site-packages/sklearn/metrics/_classification.py:2524: UserWarning: y_pred contains classes not in y_true\n",
      "  warnings.warn(\"y_pred contains classes not in y_true\")\n"
     ]
    },
    {
     "name": "stdout",
     "output_type": "stream",
     "text": [
      "🟡 No improvement for 24 epochs.\n",
      "Epoch [27/600] - Train Loss: 3127.1494, Train F1: 0.5293 | adversarial F1 : 0.5278 | Val Loss: 1.6557, Val F1: 0.0189 | Time: 0.1s | Balanced Accuracy Val: 0.0051 | - Domain Loss: 0.0007\n",
      "🟡 No improvement for 25 epochs.\n",
      "Epoch [28/600] - Train Loss: 2683.9096, Train F1: 0.5199 | adversarial F1 : 0.5317 | Val Loss: 1.6549, Val F1: 0.0189 | Time: 0.1s | Balanced Accuracy Val: 0.0051 | - Domain Loss: 0.0004\n"
     ]
    },
    {
     "name": "stderr",
     "output_type": "stream",
     "text": [
      "/home/mohammed_ahmed/miniconda3/envs/Competition_environment/lib/python3.10/site-packages/sklearn/metrics/_classification.py:2524: UserWarning: y_pred contains classes not in y_true\n",
      "  warnings.warn(\"y_pred contains classes not in y_true\")\n",
      "/home/mohammed_ahmed/miniconda3/envs/Competition_environment/lib/python3.10/site-packages/sklearn/metrics/_classification.py:2524: UserWarning: y_pred contains classes not in y_true\n",
      "  warnings.warn(\"y_pred contains classes not in y_true\")\n"
     ]
    },
    {
     "name": "stdout",
     "output_type": "stream",
     "text": [
      "🟡 No improvement for 26 epochs.\n",
      "Epoch [29/600] - Train Loss: 5997.8944, Train F1: 0.5350 | adversarial F1 : 0.5319 | Val Loss: 1.6538, Val F1: 0.0189 | Time: 0.1s | Balanced Accuracy Val: 0.0051 | - Domain Loss: 0.0004\n",
      "🟡 No improvement for 27 epochs.\n",
      "Epoch [30/600] - Train Loss: 1892.2319, Train F1: 0.5561 | adversarial F1 : 0.5448 | Val Loss: 1.6528, Val F1: 0.0189 | Time: 0.1s | Balanced Accuracy Val: 0.0051 | - Domain Loss: 0.0003\n"
     ]
    },
    {
     "name": "stderr",
     "output_type": "stream",
     "text": [
      "/home/mohammed_ahmed/miniconda3/envs/Competition_environment/lib/python3.10/site-packages/sklearn/metrics/_classification.py:2524: UserWarning: y_pred contains classes not in y_true\n",
      "  warnings.warn(\"y_pred contains classes not in y_true\")\n",
      "/home/mohammed_ahmed/miniconda3/envs/Competition_environment/lib/python3.10/site-packages/sklearn/metrics/_classification.py:2524: UserWarning: y_pred contains classes not in y_true\n",
      "  warnings.warn(\"y_pred contains classes not in y_true\")\n"
     ]
    },
    {
     "name": "stdout",
     "output_type": "stream",
     "text": [
      "🟡 No improvement for 28 epochs.\n",
      "Epoch [31/600] - Train Loss: 3312.1884, Train F1: 0.5325 | adversarial F1 : 0.5313 | Val Loss: 1.6518, Val F1: 0.0189 | Time: 0.1s | Balanced Accuracy Val: 0.0051 | - Domain Loss: 0.0004\n",
      "🟡 No improvement for 29 epochs.\n",
      "Epoch [32/600] - Train Loss: 2762.7992, Train F1: 0.5315 | adversarial F1 : 0.5414 | Val Loss: 1.6511, Val F1: 0.0189 | Time: 0.1s | Balanced Accuracy Val: 0.0051 | - Domain Loss: 0.0002\n"
     ]
    },
    {
     "name": "stderr",
     "output_type": "stream",
     "text": [
      "/home/mohammed_ahmed/miniconda3/envs/Competition_environment/lib/python3.10/site-packages/sklearn/metrics/_classification.py:2524: UserWarning: y_pred contains classes not in y_true\n",
      "  warnings.warn(\"y_pred contains classes not in y_true\")\n",
      "/home/mohammed_ahmed/miniconda3/envs/Competition_environment/lib/python3.10/site-packages/sklearn/metrics/_classification.py:2524: UserWarning: y_pred contains classes not in y_true\n",
      "  warnings.warn(\"y_pred contains classes not in y_true\")\n"
     ]
    },
    {
     "name": "stdout",
     "output_type": "stream",
     "text": [
      "🟡 No improvement for 30 epochs.\n",
      "Epoch [33/600] - Train Loss: 1360.0338, Train F1: 0.5480 | adversarial F1 : 0.5264 | Val Loss: 1.6505, Val F1: 0.0189 | Time: 0.1s | Balanced Accuracy Val: 0.0051 | - Domain Loss: 0.0006\n",
      "🟡 No improvement for 31 epochs.\n",
      "Epoch [34/600] - Train Loss: 1596.6107, Train F1: 0.5339 | adversarial F1 : 0.5232 | Val Loss: 1.6499, Val F1: 0.0189 | Time: 0.1s | Balanced Accuracy Val: 0.0051 | - Domain Loss: 0.0007\n"
     ]
    },
    {
     "name": "stderr",
     "output_type": "stream",
     "text": [
      "/home/mohammed_ahmed/miniconda3/envs/Competition_environment/lib/python3.10/site-packages/sklearn/metrics/_classification.py:2524: UserWarning: y_pred contains classes not in y_true\n",
      "  warnings.warn(\"y_pred contains classes not in y_true\")\n",
      "/home/mohammed_ahmed/miniconda3/envs/Competition_environment/lib/python3.10/site-packages/sklearn/metrics/_classification.py:2524: UserWarning: y_pred contains classes not in y_true\n",
      "  warnings.warn(\"y_pred contains classes not in y_true\")\n"
     ]
    },
    {
     "name": "stdout",
     "output_type": "stream",
     "text": [
      "🟡 No improvement for 32 epochs.\n",
      "Epoch [35/600] - Train Loss: 1853.7323, Train F1: 0.5255 | adversarial F1 : 0.5246 | Val Loss: 1.6493, Val F1: 0.0189 | Time: 0.1s | Balanced Accuracy Val: 0.0051 | - Domain Loss: 0.0004\n",
      "🟡 No improvement for 33 epochs.\n",
      "Epoch [36/600] - Train Loss: 1324.5178, Train F1: 0.5425 | adversarial F1 : 0.5241 | Val Loss: 1.6488, Val F1: 0.0189 | Time: 0.1s | Balanced Accuracy Val: 0.0051 | - Domain Loss: 0.0004\n"
     ]
    },
    {
     "name": "stderr",
     "output_type": "stream",
     "text": [
      "/home/mohammed_ahmed/miniconda3/envs/Competition_environment/lib/python3.10/site-packages/sklearn/metrics/_classification.py:2524: UserWarning: y_pred contains classes not in y_true\n",
      "  warnings.warn(\"y_pred contains classes not in y_true\")\n",
      "/home/mohammed_ahmed/miniconda3/envs/Competition_environment/lib/python3.10/site-packages/sklearn/metrics/_classification.py:2524: UserWarning: y_pred contains classes not in y_true\n",
      "  warnings.warn(\"y_pred contains classes not in y_true\")\n"
     ]
    },
    {
     "name": "stdout",
     "output_type": "stream",
     "text": [
      "🟡 No improvement for 34 epochs.\n",
      "Epoch [37/600] - Train Loss: 4391.3284, Train F1: 0.5333 | adversarial F1 : 0.5336 | Val Loss: 1.6486, Val F1: 0.0189 | Time: 0.1s | Balanced Accuracy Val: 0.0051 | - Domain Loss: 0.0005\n",
      "🟡 No improvement for 35 epochs.\n",
      "Epoch [38/600] - Train Loss: 1581.1160, Train F1: 0.5352 | adversarial F1 : 0.5380 | Val Loss: 1.6484, Val F1: 0.0189 | Time: 0.1s | Balanced Accuracy Val: 0.0051 | - Domain Loss: 0.0003\n"
     ]
    },
    {
     "name": "stderr",
     "output_type": "stream",
     "text": [
      "/home/mohammed_ahmed/miniconda3/envs/Competition_environment/lib/python3.10/site-packages/sklearn/metrics/_classification.py:2524: UserWarning: y_pred contains classes not in y_true\n",
      "  warnings.warn(\"y_pred contains classes not in y_true\")\n",
      "/home/mohammed_ahmed/miniconda3/envs/Competition_environment/lib/python3.10/site-packages/sklearn/metrics/_classification.py:2524: UserWarning: y_pred contains classes not in y_true\n",
      "  warnings.warn(\"y_pred contains classes not in y_true\")\n"
     ]
    },
    {
     "name": "stdout",
     "output_type": "stream",
     "text": [
      "🟡 No improvement for 36 epochs.\n",
      "Epoch [39/600] - Train Loss: 2234.2411, Train F1: 0.5423 | adversarial F1 : 0.5326 | Val Loss: 1.6480, Val F1: 0.0189 | Time: 0.1s | Balanced Accuracy Val: 0.0051 | - Domain Loss: 0.0003\n",
      "🟡 No improvement for 37 epochs.\n",
      "Epoch [40/600] - Train Loss: 2137.2474, Train F1: 0.5308 | adversarial F1 : 0.5434 | Val Loss: 1.6478, Val F1: 0.0189 | Time: 0.1s | Balanced Accuracy Val: 0.0051 | - Domain Loss: 0.0003\n"
     ]
    },
    {
     "name": "stderr",
     "output_type": "stream",
     "text": [
      "/home/mohammed_ahmed/miniconda3/envs/Competition_environment/lib/python3.10/site-packages/sklearn/metrics/_classification.py:2524: UserWarning: y_pred contains classes not in y_true\n",
      "  warnings.warn(\"y_pred contains classes not in y_true\")\n",
      "/home/mohammed_ahmed/miniconda3/envs/Competition_environment/lib/python3.10/site-packages/sklearn/metrics/_classification.py:2524: UserWarning: y_pred contains classes not in y_true\n",
      "  warnings.warn(\"y_pred contains classes not in y_true\")\n"
     ]
    },
    {
     "name": "stdout",
     "output_type": "stream",
     "text": [
      "🟡 No improvement for 38 epochs.\n",
      "Epoch [41/600] - Train Loss: 2718.6392, Train F1: 0.5375 | adversarial F1 : 0.5324 | Val Loss: 1.6476, Val F1: 0.0189 | Time: 0.1s | Balanced Accuracy Val: 0.0051 | - Domain Loss: 0.0006\n",
      "🟡 No improvement for 39 epochs.\n",
      "Epoch [42/600] - Train Loss: 1718.5934, Train F1: 0.5400 | adversarial F1 : 0.5280 | Val Loss: 1.6474, Val F1: 0.0189 | Time: 0.1s | Balanced Accuracy Val: 0.0051 | - Domain Loss: 0.0002\n"
     ]
    },
    {
     "name": "stderr",
     "output_type": "stream",
     "text": [
      "/home/mohammed_ahmed/miniconda3/envs/Competition_environment/lib/python3.10/site-packages/sklearn/metrics/_classification.py:2524: UserWarning: y_pred contains classes not in y_true\n",
      "  warnings.warn(\"y_pred contains classes not in y_true\")\n",
      "/home/mohammed_ahmed/miniconda3/envs/Competition_environment/lib/python3.10/site-packages/sklearn/metrics/_classification.py:2524: UserWarning: y_pred contains classes not in y_true\n",
      "  warnings.warn(\"y_pred contains classes not in y_true\")\n"
     ]
    },
    {
     "name": "stdout",
     "output_type": "stream",
     "text": [
      "🟡 No improvement for 40 epochs.\n",
      "Epoch [43/600] - Train Loss: 1471.4797, Train F1: 0.5274 | adversarial F1 : 0.5426 | Val Loss: 1.6472, Val F1: 0.0189 | Time: 0.1s | Balanced Accuracy Val: 0.0051 | - Domain Loss: 0.0002\n",
      "🟡 No improvement for 41 epochs.\n",
      "Epoch [44/600] - Train Loss: 2790.3940, Train F1: 0.5297 | adversarial F1 : 0.5370 | Val Loss: 1.6474, Val F1: 0.0189 | Time: 0.1s | Balanced Accuracy Val: 0.0051 | - Domain Loss: 0.0008\n"
     ]
    },
    {
     "name": "stderr",
     "output_type": "stream",
     "text": [
      "/home/mohammed_ahmed/miniconda3/envs/Competition_environment/lib/python3.10/site-packages/sklearn/metrics/_classification.py:2524: UserWarning: y_pred contains classes not in y_true\n",
      "  warnings.warn(\"y_pred contains classes not in y_true\")\n",
      "/home/mohammed_ahmed/miniconda3/envs/Competition_environment/lib/python3.10/site-packages/sklearn/metrics/_classification.py:2524: UserWarning: y_pred contains classes not in y_true\n",
      "  warnings.warn(\"y_pred contains classes not in y_true\")\n"
     ]
    },
    {
     "name": "stdout",
     "output_type": "stream",
     "text": [
      "🟡 No improvement for 42 epochs.\n",
      "Epoch [45/600] - Train Loss: 2678.1515, Train F1: 0.5350 | adversarial F1 : 0.5251 | Val Loss: 1.6475, Val F1: 0.0189 | Time: 0.1s | Balanced Accuracy Val: 0.0051 | - Domain Loss: 0.0005\n",
      "🟡 No improvement for 43 epochs.\n",
      "Epoch [46/600] - Train Loss: 3248.0278, Train F1: 0.5289 | adversarial F1 : 0.5268 | Val Loss: 1.6473, Val F1: 0.0189 | Time: 0.1s | Balanced Accuracy Val: 0.0051 | - Domain Loss: 0.0008\n"
     ]
    },
    {
     "name": "stderr",
     "output_type": "stream",
     "text": [
      "/home/mohammed_ahmed/miniconda3/envs/Competition_environment/lib/python3.10/site-packages/sklearn/metrics/_classification.py:2524: UserWarning: y_pred contains classes not in y_true\n",
      "  warnings.warn(\"y_pred contains classes not in y_true\")\n",
      "/home/mohammed_ahmed/miniconda3/envs/Competition_environment/lib/python3.10/site-packages/sklearn/metrics/_classification.py:2524: UserWarning: y_pred contains classes not in y_true\n",
      "  warnings.warn(\"y_pred contains classes not in y_true\")\n"
     ]
    },
    {
     "name": "stdout",
     "output_type": "stream",
     "text": [
      "🟡 No improvement for 44 epochs.\n",
      "Epoch [47/600] - Train Loss: 3444.5768, Train F1: 0.5399 | adversarial F1 : 0.5236 | Val Loss: 1.6472, Val F1: 0.0189 | Time: 0.1s | Balanced Accuracy Val: 0.0051 | - Domain Loss: 0.0003\n",
      "🟡 No improvement for 45 epochs.\n",
      "Epoch [48/600] - Train Loss: 3540.9200, Train F1: 0.5337 | adversarial F1 : 0.5383 | Val Loss: 1.6469, Val F1: 0.0189 | Time: 0.1s | Balanced Accuracy Val: 0.0051 | - Domain Loss: 0.0004\n"
     ]
    },
    {
     "name": "stderr",
     "output_type": "stream",
     "text": [
      "/home/mohammed_ahmed/miniconda3/envs/Competition_environment/lib/python3.10/site-packages/sklearn/metrics/_classification.py:2524: UserWarning: y_pred contains classes not in y_true\n",
      "  warnings.warn(\"y_pred contains classes not in y_true\")\n",
      "/home/mohammed_ahmed/miniconda3/envs/Competition_environment/lib/python3.10/site-packages/sklearn/metrics/_classification.py:2524: UserWarning: y_pred contains classes not in y_true\n",
      "  warnings.warn(\"y_pred contains classes not in y_true\")\n"
     ]
    },
    {
     "name": "stdout",
     "output_type": "stream",
     "text": [
      "🟡 No improvement for 46 epochs.\n",
      "Epoch [49/600] - Train Loss: 1845.3062, Train F1: 0.5523 | adversarial F1 : 0.5264 | Val Loss: 1.6468, Val F1: 0.0189 | Time: 0.1s | Balanced Accuracy Val: 0.0051 | - Domain Loss: 0.0004\n",
      "🟡 No improvement for 47 epochs.\n",
      "Epoch [50/600] - Train Loss: 1626.9333, Train F1: 0.5255 | adversarial F1 : 0.5232 | Val Loss: 1.6468, Val F1: 0.0189 | Time: 0.1s | Balanced Accuracy Val: 0.0051 | - Domain Loss: 0.0005\n"
     ]
    },
    {
     "name": "stderr",
     "output_type": "stream",
     "text": [
      "/home/mohammed_ahmed/miniconda3/envs/Competition_environment/lib/python3.10/site-packages/sklearn/metrics/_classification.py:2524: UserWarning: y_pred contains classes not in y_true\n",
      "  warnings.warn(\"y_pred contains classes not in y_true\")\n",
      "/home/mohammed_ahmed/miniconda3/envs/Competition_environment/lib/python3.10/site-packages/sklearn/metrics/_classification.py:2524: UserWarning: y_pred contains classes not in y_true\n",
      "  warnings.warn(\"y_pred contains classes not in y_true\")\n"
     ]
    },
    {
     "name": "stdout",
     "output_type": "stream",
     "text": [
      "🟡 No improvement for 48 epochs.\n",
      "Epoch [51/600] - Train Loss: 3016.0574, Train F1: 0.5359 | adversarial F1 : 0.5381 | Val Loss: 1.6474, Val F1: 0.0189 | Time: 0.1s | Balanced Accuracy Val: 0.0051 | - Domain Loss: 0.0005\n",
      "🟡 No improvement for 49 epochs.\n",
      "Epoch [52/600] - Train Loss: 1348.7395, Train F1: 0.5366 | adversarial F1 : 0.5236 | Val Loss: 1.6479, Val F1: 0.0189 | Time: 0.1s | Balanced Accuracy Val: 0.0051 | - Domain Loss: 0.0005\n"
     ]
    },
    {
     "name": "stderr",
     "output_type": "stream",
     "text": [
      "/home/mohammed_ahmed/miniconda3/envs/Competition_environment/lib/python3.10/site-packages/sklearn/metrics/_classification.py:2524: UserWarning: y_pred contains classes not in y_true\n",
      "  warnings.warn(\"y_pred contains classes not in y_true\")\n",
      "/home/mohammed_ahmed/miniconda3/envs/Competition_environment/lib/python3.10/site-packages/sklearn/metrics/_classification.py:2524: UserWarning: y_pred contains classes not in y_true\n",
      "  warnings.warn(\"y_pred contains classes not in y_true\")\n"
     ]
    },
    {
     "name": "stdout",
     "output_type": "stream",
     "text": [
      "🟡 No improvement for 50 epochs.\n",
      "Epoch [53/600] - Train Loss: 2328.3300, Train F1: 0.5336 | adversarial F1 : 0.5184 | Val Loss: 1.6486, Val F1: 0.0189 | Time: 0.1s | Balanced Accuracy Val: 0.0051 | - Domain Loss: 0.0004\n",
      "🟡 No improvement for 51 epochs.\n",
      "Epoch [54/600] - Train Loss: 2680.2032, Train F1: 0.5434 | adversarial F1 : 0.5229 | Val Loss: 1.6492, Val F1: 0.0189 | Time: 0.1s | Balanced Accuracy Val: 0.0051 | - Domain Loss: 0.0002\n"
     ]
    },
    {
     "name": "stderr",
     "output_type": "stream",
     "text": [
      "/home/mohammed_ahmed/miniconda3/envs/Competition_environment/lib/python3.10/site-packages/sklearn/metrics/_classification.py:2524: UserWarning: y_pred contains classes not in y_true\n",
      "  warnings.warn(\"y_pred contains classes not in y_true\")\n",
      "/home/mohammed_ahmed/miniconda3/envs/Competition_environment/lib/python3.10/site-packages/sklearn/metrics/_classification.py:2524: UserWarning: y_pred contains classes not in y_true\n",
      "  warnings.warn(\"y_pred contains classes not in y_true\")\n"
     ]
    },
    {
     "name": "stdout",
     "output_type": "stream",
     "text": [
      "🟡 No improvement for 52 epochs.\n",
      "Epoch [55/600] - Train Loss: 366.5923, Train F1: 0.5320 | adversarial F1 : 0.5281 | Val Loss: 1.6497, Val F1: 0.0189 | Time: 0.1s | Balanced Accuracy Val: 0.0051 | - Domain Loss: 0.0006\n",
      "🟡 No improvement for 53 epochs.\n",
      "Epoch [56/600] - Train Loss: 1591.4360, Train F1: 0.5347 | adversarial F1 : 0.5414 | Val Loss: 1.6502, Val F1: 0.0189 | Time: 0.1s | Balanced Accuracy Val: 0.0051 | - Domain Loss: 0.0004\n"
     ]
    },
    {
     "name": "stderr",
     "output_type": "stream",
     "text": [
      "/home/mohammed_ahmed/miniconda3/envs/Competition_environment/lib/python3.10/site-packages/sklearn/metrics/_classification.py:2524: UserWarning: y_pred contains classes not in y_true\n",
      "  warnings.warn(\"y_pred contains classes not in y_true\")\n",
      "/home/mohammed_ahmed/miniconda3/envs/Competition_environment/lib/python3.10/site-packages/sklearn/metrics/_classification.py:2524: UserWarning: y_pred contains classes not in y_true\n",
      "  warnings.warn(\"y_pred contains classes not in y_true\")\n"
     ]
    },
    {
     "name": "stdout",
     "output_type": "stream",
     "text": [
      "🟡 No improvement for 54 epochs.\n",
      "Epoch [57/600] - Train Loss: 2197.3213, Train F1: 0.5377 | adversarial F1 : 0.5309 | Val Loss: 1.6506, Val F1: 0.0189 | Time: 0.1s | Balanced Accuracy Val: 0.0051 | - Domain Loss: 0.0003\n",
      "🟡 No improvement for 55 epochs.\n",
      "Epoch [58/600] - Train Loss: 1924.0615, Train F1: 0.5315 | adversarial F1 : 0.5268 | Val Loss: 1.6510, Val F1: 0.0189 | Time: 0.1s | Balanced Accuracy Val: 0.0051 | - Domain Loss: 0.0002\n"
     ]
    },
    {
     "name": "stderr",
     "output_type": "stream",
     "text": [
      "/home/mohammed_ahmed/miniconda3/envs/Competition_environment/lib/python3.10/site-packages/sklearn/metrics/_classification.py:2524: UserWarning: y_pred contains classes not in y_true\n",
      "  warnings.warn(\"y_pred contains classes not in y_true\")\n",
      "/home/mohammed_ahmed/miniconda3/envs/Competition_environment/lib/python3.10/site-packages/sklearn/metrics/_classification.py:2524: UserWarning: y_pred contains classes not in y_true\n",
      "  warnings.warn(\"y_pred contains classes not in y_true\")\n"
     ]
    },
    {
     "name": "stdout",
     "output_type": "stream",
     "text": [
      "🟡 No improvement for 56 epochs.\n",
      "Epoch [59/600] - Train Loss: 2090.0186, Train F1: 0.5268 | adversarial F1 : 0.5293 | Val Loss: 1.6514, Val F1: 0.0189 | Time: 0.1s | Balanced Accuracy Val: 0.0051 | - Domain Loss: 0.0003\n",
      "🟡 No improvement for 57 epochs.\n",
      "Epoch [60/600] - Train Loss: 1934.6904, Train F1: 0.5401 | adversarial F1 : 0.5212 | Val Loss: 1.6521, Val F1: 0.0189 | Time: 0.1s | Balanced Accuracy Val: 0.0051 | - Domain Loss: 0.0003\n"
     ]
    },
    {
     "name": "stderr",
     "output_type": "stream",
     "text": [
      "/home/mohammed_ahmed/miniconda3/envs/Competition_environment/lib/python3.10/site-packages/sklearn/metrics/_classification.py:2524: UserWarning: y_pred contains classes not in y_true\n",
      "  warnings.warn(\"y_pred contains classes not in y_true\")\n",
      "/home/mohammed_ahmed/miniconda3/envs/Competition_environment/lib/python3.10/site-packages/sklearn/metrics/_classification.py:2524: UserWarning: y_pred contains classes not in y_true\n",
      "  warnings.warn(\"y_pred contains classes not in y_true\")\n"
     ]
    },
    {
     "name": "stdout",
     "output_type": "stream",
     "text": [
      "🟡 No improvement for 58 epochs.\n",
      "Epoch [61/600] - Train Loss: 1534.5809, Train F1: 0.5247 | adversarial F1 : 0.5300 | Val Loss: 1.6527, Val F1: 0.0189 | Time: 0.1s | Balanced Accuracy Val: 0.0051 | - Domain Loss: 0.0003\n",
      "🟡 No improvement for 59 epochs.\n",
      "Epoch [62/600] - Train Loss: 955.5557, Train F1: 0.5458 | adversarial F1 : 0.5359 | Val Loss: 1.6532, Val F1: 0.0189 | Time: 0.1s | Balanced Accuracy Val: 0.0051 | - Domain Loss: 0.0003\n"
     ]
    },
    {
     "name": "stderr",
     "output_type": "stream",
     "text": [
      "/home/mohammed_ahmed/miniconda3/envs/Competition_environment/lib/python3.10/site-packages/sklearn/metrics/_classification.py:2524: UserWarning: y_pred contains classes not in y_true\n",
      "  warnings.warn(\"y_pred contains classes not in y_true\")\n",
      "/home/mohammed_ahmed/miniconda3/envs/Competition_environment/lib/python3.10/site-packages/sklearn/metrics/_classification.py:2524: UserWarning: y_pred contains classes not in y_true\n",
      "  warnings.warn(\"y_pred contains classes not in y_true\")\n"
     ]
    },
    {
     "name": "stdout",
     "output_type": "stream",
     "text": [
      "🟡 No improvement for 60 epochs.\n",
      "Epoch [63/600] - Train Loss: 2106.1999, Train F1: 0.5386 | adversarial F1 : 0.5281 | Val Loss: 1.6536, Val F1: 0.0189 | Time: 0.1s | Balanced Accuracy Val: 0.0051 | - Domain Loss: 0.0003\n",
      "🟡 No improvement for 61 epochs.\n",
      "Epoch [64/600] - Train Loss: 1512.0547, Train F1: 0.5458 | adversarial F1 : 0.5397 | Val Loss: 1.6539, Val F1: 0.0189 | Time: 0.1s | Balanced Accuracy Val: 0.0051 | - Domain Loss: 0.0003\n"
     ]
    },
    {
     "name": "stderr",
     "output_type": "stream",
     "text": [
      "/home/mohammed_ahmed/miniconda3/envs/Competition_environment/lib/python3.10/site-packages/sklearn/metrics/_classification.py:2524: UserWarning: y_pred contains classes not in y_true\n",
      "  warnings.warn(\"y_pred contains classes not in y_true\")\n",
      "/home/mohammed_ahmed/miniconda3/envs/Competition_environment/lib/python3.10/site-packages/sklearn/metrics/_classification.py:2524: UserWarning: y_pred contains classes not in y_true\n",
      "  warnings.warn(\"y_pred contains classes not in y_true\")\n"
     ]
    },
    {
     "name": "stdout",
     "output_type": "stream",
     "text": [
      "🟡 No improvement for 62 epochs.\n",
      "Epoch [65/600] - Train Loss: 1472.6157, Train F1: 0.5379 | adversarial F1 : 0.5212 | Val Loss: 1.6543, Val F1: 0.0189 | Time: 0.1s | Balanced Accuracy Val: 0.0051 | - Domain Loss: 0.0008\n",
      "🟡 No improvement for 63 epochs.\n",
      "Epoch [66/600] - Train Loss: 3661.6154, Train F1: 0.5199 | adversarial F1 : 0.5437 | Val Loss: 1.6547, Val F1: 0.0189 | Time: 0.1s | Balanced Accuracy Val: 0.0051 | - Domain Loss: 0.0008\n"
     ]
    },
    {
     "name": "stderr",
     "output_type": "stream",
     "text": [
      "/home/mohammed_ahmed/miniconda3/envs/Competition_environment/lib/python3.10/site-packages/sklearn/metrics/_classification.py:2524: UserWarning: y_pred contains classes not in y_true\n",
      "  warnings.warn(\"y_pred contains classes not in y_true\")\n",
      "/home/mohammed_ahmed/miniconda3/envs/Competition_environment/lib/python3.10/site-packages/sklearn/metrics/_classification.py:2524: UserWarning: y_pred contains classes not in y_true\n",
      "  warnings.warn(\"y_pred contains classes not in y_true\")\n"
     ]
    },
    {
     "name": "stdout",
     "output_type": "stream",
     "text": [
      "🟡 No improvement for 64 epochs.\n",
      "Epoch [67/600] - Train Loss: 2312.8200, Train F1: 0.5509 | adversarial F1 : 0.5260 | Val Loss: 1.6552, Val F1: 0.0189 | Time: 0.1s | Balanced Accuracy Val: 0.0051 | - Domain Loss: 0.0004\n",
      "🟡 No improvement for 65 epochs.\n",
      "Epoch [68/600] - Train Loss: 2503.5032, Train F1: 0.5255 | adversarial F1 : 0.5395 | Val Loss: 1.6555, Val F1: 0.0189 | Time: 0.1s | Balanced Accuracy Val: 0.0051 | - Domain Loss: 0.0008\n"
     ]
    },
    {
     "name": "stderr",
     "output_type": "stream",
     "text": [
      "/home/mohammed_ahmed/miniconda3/envs/Competition_environment/lib/python3.10/site-packages/sklearn/metrics/_classification.py:2524: UserWarning: y_pred contains classes not in y_true\n",
      "  warnings.warn(\"y_pred contains classes not in y_true\")\n",
      "/home/mohammed_ahmed/miniconda3/envs/Competition_environment/lib/python3.10/site-packages/sklearn/metrics/_classification.py:2524: UserWarning: y_pred contains classes not in y_true\n",
      "  warnings.warn(\"y_pred contains classes not in y_true\")\n"
     ]
    },
    {
     "name": "stdout",
     "output_type": "stream",
     "text": [
      "🟡 No improvement for 66 epochs.\n",
      "Epoch [69/600] - Train Loss: 1625.7704, Train F1: 0.5403 | adversarial F1 : 0.5268 | Val Loss: 1.6559, Val F1: 0.0189 | Time: 0.1s | Balanced Accuracy Val: 0.0051 | - Domain Loss: 0.0003\n",
      "🟡 No improvement for 67 epochs.\n",
      "Epoch [70/600] - Train Loss: 2268.3118, Train F1: 0.5278 | adversarial F1 : 0.5251 | Val Loss: 1.6559, Val F1: 0.0189 | Time: 0.1s | Balanced Accuracy Val: 0.0051 | - Domain Loss: 0.0003\n"
     ]
    },
    {
     "name": "stderr",
     "output_type": "stream",
     "text": [
      "/home/mohammed_ahmed/miniconda3/envs/Competition_environment/lib/python3.10/site-packages/sklearn/metrics/_classification.py:2524: UserWarning: y_pred contains classes not in y_true\n",
      "  warnings.warn(\"y_pred contains classes not in y_true\")\n",
      "/home/mohammed_ahmed/miniconda3/envs/Competition_environment/lib/python3.10/site-packages/sklearn/metrics/_classification.py:2524: UserWarning: y_pred contains classes not in y_true\n",
      "  warnings.warn(\"y_pred contains classes not in y_true\")\n"
     ]
    },
    {
     "name": "stdout",
     "output_type": "stream",
     "text": [
      "🟡 No improvement for 68 epochs.\n",
      "Epoch [71/600] - Train Loss: 1893.4830, Train F1: 0.5370 | adversarial F1 : 0.5296 | Val Loss: 1.6560, Val F1: 0.0189 | Time: 0.1s | Balanced Accuracy Val: 0.0051 | - Domain Loss: 0.0003\n",
      "🟡 No improvement for 69 epochs.\n",
      "Epoch [72/600] - Train Loss: 1342.2848, Train F1: 0.5348 | adversarial F1 : 0.5236 | Val Loss: 1.6561, Val F1: 0.0189 | Time: 0.1s | Balanced Accuracy Val: 0.0051 | - Domain Loss: 0.0003\n"
     ]
    },
    {
     "name": "stderr",
     "output_type": "stream",
     "text": [
      "/home/mohammed_ahmed/miniconda3/envs/Competition_environment/lib/python3.10/site-packages/sklearn/metrics/_classification.py:2524: UserWarning: y_pred contains classes not in y_true\n",
      "  warnings.warn(\"y_pred contains classes not in y_true\")\n",
      "/home/mohammed_ahmed/miniconda3/envs/Competition_environment/lib/python3.10/site-packages/sklearn/metrics/_classification.py:2524: UserWarning: y_pred contains classes not in y_true\n",
      "  warnings.warn(\"y_pred contains classes not in y_true\")\n"
     ]
    },
    {
     "name": "stdout",
     "output_type": "stream",
     "text": [
      "🟡 No improvement for 70 epochs.\n",
      "Epoch [73/600] - Train Loss: 1896.5152, Train F1: 0.5292 | adversarial F1 : 0.5275 | Val Loss: 1.6563, Val F1: 0.0189 | Time: 0.1s | Balanced Accuracy Val: 0.0051 | - Domain Loss: 0.0004\n",
      "🟡 No improvement for 71 epochs.\n",
      "Epoch [74/600] - Train Loss: 3432.8021, Train F1: 0.5352 | adversarial F1 : 0.5464 | Val Loss: 1.6562, Val F1: 0.0189 | Time: 0.1s | Balanced Accuracy Val: 0.0051 | - Domain Loss: 0.0004\n"
     ]
    },
    {
     "name": "stderr",
     "output_type": "stream",
     "text": [
      "/home/mohammed_ahmed/miniconda3/envs/Competition_environment/lib/python3.10/site-packages/sklearn/metrics/_classification.py:2524: UserWarning: y_pred contains classes not in y_true\n",
      "  warnings.warn(\"y_pred contains classes not in y_true\")\n",
      "/home/mohammed_ahmed/miniconda3/envs/Competition_environment/lib/python3.10/site-packages/sklearn/metrics/_classification.py:2524: UserWarning: y_pred contains classes not in y_true\n",
      "  warnings.warn(\"y_pred contains classes not in y_true\")\n"
     ]
    },
    {
     "name": "stdout",
     "output_type": "stream",
     "text": [
      "🟡 No improvement for 72 epochs.\n",
      "Epoch [75/600] - Train Loss: 4231.6480, Train F1: 0.5325 | adversarial F1 : 0.5354 | Val Loss: 1.6561, Val F1: 0.0189 | Time: 0.1s | Balanced Accuracy Val: 0.0051 | - Domain Loss: 0.0004\n",
      "🟡 No improvement for 73 epochs.\n",
      "Epoch [76/600] - Train Loss: 832.3725, Train F1: 0.5299 | adversarial F1 : 0.5288 | Val Loss: 1.6559, Val F1: 0.0189 | Time: 0.1s | Balanced Accuracy Val: 0.0051 | - Domain Loss: 0.0004\n"
     ]
    },
    {
     "name": "stderr",
     "output_type": "stream",
     "text": [
      "/home/mohammed_ahmed/miniconda3/envs/Competition_environment/lib/python3.10/site-packages/sklearn/metrics/_classification.py:2524: UserWarning: y_pred contains classes not in y_true\n",
      "  warnings.warn(\"y_pred contains classes not in y_true\")\n",
      "/home/mohammed_ahmed/miniconda3/envs/Competition_environment/lib/python3.10/site-packages/sklearn/metrics/_classification.py:2524: UserWarning: y_pred contains classes not in y_true\n",
      "  warnings.warn(\"y_pred contains classes not in y_true\")\n"
     ]
    },
    {
     "name": "stdout",
     "output_type": "stream",
     "text": [
      "🟡 No improvement for 74 epochs.\n",
      "Epoch [77/600] - Train Loss: 3006.5588, Train F1: 0.5303 | adversarial F1 : 0.5232 | Val Loss: 1.6558, Val F1: 0.0189 | Time: 0.1s | Balanced Accuracy Val: 0.0051 | - Domain Loss: 0.0003\n",
      "🟡 No improvement for 75 epochs.\n",
      "Epoch [78/600] - Train Loss: 1296.2320, Train F1: 0.5504 | adversarial F1 : 0.5209 | Val Loss: 1.6558, Val F1: 0.0189 | Time: 0.1s | Balanced Accuracy Val: 0.0051 | - Domain Loss: 0.0003\n"
     ]
    },
    {
     "name": "stderr",
     "output_type": "stream",
     "text": [
      "/home/mohammed_ahmed/miniconda3/envs/Competition_environment/lib/python3.10/site-packages/sklearn/metrics/_classification.py:2524: UserWarning: y_pred contains classes not in y_true\n",
      "  warnings.warn(\"y_pred contains classes not in y_true\")\n",
      "/home/mohammed_ahmed/miniconda3/envs/Competition_environment/lib/python3.10/site-packages/sklearn/metrics/_classification.py:2524: UserWarning: y_pred contains classes not in y_true\n",
      "  warnings.warn(\"y_pred contains classes not in y_true\")\n"
     ]
    },
    {
     "name": "stdout",
     "output_type": "stream",
     "text": [
      "🟡 No improvement for 76 epochs.\n",
      "Epoch [79/600] - Train Loss: 1256.5370, Train F1: 0.5281 | adversarial F1 : 0.5303 | Val Loss: 1.6559, Val F1: 0.0189 | Time: 0.1s | Balanced Accuracy Val: 0.0051 | - Domain Loss: 0.0004\n",
      "🟡 No improvement for 77 epochs.\n",
      "Epoch [80/600] - Train Loss: 1779.6318, Train F1: 0.5470 | adversarial F1 : 0.5222 | Val Loss: 1.6559, Val F1: 0.0189 | Time: 0.1s | Balanced Accuracy Val: 0.0051 | - Domain Loss: 0.0003\n"
     ]
    },
    {
     "name": "stderr",
     "output_type": "stream",
     "text": [
      "/home/mohammed_ahmed/miniconda3/envs/Competition_environment/lib/python3.10/site-packages/sklearn/metrics/_classification.py:2524: UserWarning: y_pred contains classes not in y_true\n",
      "  warnings.warn(\"y_pred contains classes not in y_true\")\n",
      "/home/mohammed_ahmed/miniconda3/envs/Competition_environment/lib/python3.10/site-packages/sklearn/metrics/_classification.py:2524: UserWarning: y_pred contains classes not in y_true\n",
      "  warnings.warn(\"y_pred contains classes not in y_true\")\n"
     ]
    },
    {
     "name": "stdout",
     "output_type": "stream",
     "text": [
      "🟡 No improvement for 78 epochs.\n",
      "Epoch [81/600] - Train Loss: 3132.1408, Train F1: 0.5423 | adversarial F1 : 0.5368 | Val Loss: 1.6560, Val F1: 0.0189 | Time: 0.1s | Balanced Accuracy Val: 0.0051 | - Domain Loss: 0.0004\n",
      "🟡 No improvement for 79 epochs.\n",
      "Epoch [82/600] - Train Loss: 3677.2286, Train F1: 0.5350 | adversarial F1 : 0.5315 | Val Loss: 1.6565, Val F1: 0.0189 | Time: 0.1s | Balanced Accuracy Val: 0.0051 | - Domain Loss: 0.0002\n"
     ]
    },
    {
     "name": "stderr",
     "output_type": "stream",
     "text": [
      "/home/mohammed_ahmed/miniconda3/envs/Competition_environment/lib/python3.10/site-packages/sklearn/metrics/_classification.py:2524: UserWarning: y_pred contains classes not in y_true\n",
      "  warnings.warn(\"y_pred contains classes not in y_true\")\n",
      "/home/mohammed_ahmed/miniconda3/envs/Competition_environment/lib/python3.10/site-packages/sklearn/metrics/_classification.py:2524: UserWarning: y_pred contains classes not in y_true\n",
      "  warnings.warn(\"y_pred contains classes not in y_true\")\n"
     ]
    },
    {
     "name": "stdout",
     "output_type": "stream",
     "text": [
      "🟡 No improvement for 80 epochs.\n",
      "Epoch [83/600] - Train Loss: 3605.5646, Train F1: 0.5247 | adversarial F1 : 0.5288 | Val Loss: 1.6560, Val F1: 0.0189 | Time: 0.1s | Balanced Accuracy Val: 0.0051 | - Domain Loss: 0.0002\n",
      "🟡 No improvement for 81 epochs.\n",
      "Epoch [84/600] - Train Loss: 2498.5545, Train F1: 0.5307 | adversarial F1 : 0.5271 | Val Loss: 1.6556, Val F1: 0.0189 | Time: 0.1s | Balanced Accuracy Val: 0.0051 | - Domain Loss: 0.0008\n"
     ]
    },
    {
     "name": "stderr",
     "output_type": "stream",
     "text": [
      "/home/mohammed_ahmed/miniconda3/envs/Competition_environment/lib/python3.10/site-packages/sklearn/metrics/_classification.py:2524: UserWarning: y_pred contains classes not in y_true\n",
      "  warnings.warn(\"y_pred contains classes not in y_true\")\n",
      "/home/mohammed_ahmed/miniconda3/envs/Competition_environment/lib/python3.10/site-packages/sklearn/metrics/_classification.py:2524: UserWarning: y_pred contains classes not in y_true\n",
      "  warnings.warn(\"y_pred contains classes not in y_true\")\n"
     ]
    },
    {
     "name": "stdout",
     "output_type": "stream",
     "text": [
      "🟡 No improvement for 82 epochs.\n",
      "Epoch [85/600] - Train Loss: 2616.3123, Train F1: 0.5404 | adversarial F1 : 0.5202 | Val Loss: 1.6554, Val F1: 0.0189 | Time: 0.1s | Balanced Accuracy Val: 0.0051 | - Domain Loss: 0.0004\n",
      "🟡 No improvement for 83 epochs.\n",
      "Epoch [86/600] - Train Loss: 1216.7101, Train F1: 0.5202 | adversarial F1 : 0.5366 | Val Loss: 1.6553, Val F1: 0.0189 | Time: 0.1s | Balanced Accuracy Val: 0.0051 | - Domain Loss: 0.0002\n"
     ]
    },
    {
     "name": "stderr",
     "output_type": "stream",
     "text": [
      "/home/mohammed_ahmed/miniconda3/envs/Competition_environment/lib/python3.10/site-packages/sklearn/metrics/_classification.py:2524: UserWarning: y_pred contains classes not in y_true\n",
      "  warnings.warn(\"y_pred contains classes not in y_true\")\n",
      "/home/mohammed_ahmed/miniconda3/envs/Competition_environment/lib/python3.10/site-packages/sklearn/metrics/_classification.py:2524: UserWarning: y_pred contains classes not in y_true\n",
      "  warnings.warn(\"y_pred contains classes not in y_true\")\n"
     ]
    },
    {
     "name": "stdout",
     "output_type": "stream",
     "text": [
      "🟡 No improvement for 84 epochs.\n",
      "Epoch [87/600] - Train Loss: 2308.1695, Train F1: 0.5504 | adversarial F1 : 0.5425 | Val Loss: 1.6552, Val F1: 0.0189 | Time: 0.1s | Balanced Accuracy Val: 0.0051 | - Domain Loss: 0.0003\n",
      "🟡 No improvement for 85 epochs.\n",
      "Epoch [88/600] - Train Loss: 714.1942, Train F1: 0.5410 | adversarial F1 : 0.5445 | Val Loss: 1.6551, Val F1: 0.0189 | Time: 0.1s | Balanced Accuracy Val: 0.0051 | - Domain Loss: 0.0003\n"
     ]
    },
    {
     "name": "stderr",
     "output_type": "stream",
     "text": [
      "/home/mohammed_ahmed/miniconda3/envs/Competition_environment/lib/python3.10/site-packages/sklearn/metrics/_classification.py:2524: UserWarning: y_pred contains classes not in y_true\n",
      "  warnings.warn(\"y_pred contains classes not in y_true\")\n",
      "/home/mohammed_ahmed/miniconda3/envs/Competition_environment/lib/python3.10/site-packages/sklearn/metrics/_classification.py:2524: UserWarning: y_pred contains classes not in y_true\n",
      "  warnings.warn(\"y_pred contains classes not in y_true\")\n"
     ]
    },
    {
     "name": "stdout",
     "output_type": "stream",
     "text": [
      "🟡 No improvement for 86 epochs.\n",
      "Epoch [89/600] - Train Loss: 1162.6927, Train F1: 0.5326 | adversarial F1 : 0.5239 | Val Loss: 1.6550, Val F1: 0.0189 | Time: 0.1s | Balanced Accuracy Val: 0.0051 | - Domain Loss: 0.0003\n",
      "🟡 No improvement for 87 epochs.\n",
      "Epoch [90/600] - Train Loss: 1420.3616, Train F1: 0.5341 | adversarial F1 : 0.5330 | Val Loss: 1.6551, Val F1: 0.0189 | Time: 0.1s | Balanced Accuracy Val: 0.0051 | - Domain Loss: 0.0004\n"
     ]
    },
    {
     "name": "stderr",
     "output_type": "stream",
     "text": [
      "/home/mohammed_ahmed/miniconda3/envs/Competition_environment/lib/python3.10/site-packages/sklearn/metrics/_classification.py:2524: UserWarning: y_pred contains classes not in y_true\n",
      "  warnings.warn(\"y_pred contains classes not in y_true\")\n",
      "/home/mohammed_ahmed/miniconda3/envs/Competition_environment/lib/python3.10/site-packages/sklearn/metrics/_classification.py:2524: UserWarning: y_pred contains classes not in y_true\n",
      "  warnings.warn(\"y_pred contains classes not in y_true\")\n"
     ]
    },
    {
     "name": "stdout",
     "output_type": "stream",
     "text": [
      "🟡 No improvement for 88 epochs.\n",
      "Epoch [91/600] - Train Loss: 1772.3360, Train F1: 0.5344 | adversarial F1 : 0.5292 | Val Loss: 1.6551, Val F1: 0.0189 | Time: 0.1s | Balanced Accuracy Val: 0.0051 | - Domain Loss: 0.0002\n",
      "🟡 No improvement for 89 epochs.\n",
      "Epoch [92/600] - Train Loss: 1212.4930, Train F1: 0.5296 | adversarial F1 : 0.5279 | Val Loss: 1.6552, Val F1: 0.0189 | Time: 0.1s | Balanced Accuracy Val: 0.0051 | - Domain Loss: 0.0006\n"
     ]
    },
    {
     "name": "stderr",
     "output_type": "stream",
     "text": [
      "/home/mohammed_ahmed/miniconda3/envs/Competition_environment/lib/python3.10/site-packages/sklearn/metrics/_classification.py:2524: UserWarning: y_pred contains classes not in y_true\n",
      "  warnings.warn(\"y_pred contains classes not in y_true\")\n",
      "/home/mohammed_ahmed/miniconda3/envs/Competition_environment/lib/python3.10/site-packages/sklearn/metrics/_classification.py:2524: UserWarning: y_pred contains classes not in y_true\n",
      "  warnings.warn(\"y_pred contains classes not in y_true\")\n"
     ]
    },
    {
     "name": "stdout",
     "output_type": "stream",
     "text": [
      "🟡 No improvement for 90 epochs.\n",
      "Epoch [93/600] - Train Loss: 2178.7081, Train F1: 0.5315 | adversarial F1 : 0.5229 | Val Loss: 1.6536, Val F1: 0.0189 | Time: 0.1s | Balanced Accuracy Val: 0.0051 | - Domain Loss: 0.0004\n",
      "🟡 No improvement for 91 epochs.\n",
      "Epoch [94/600] - Train Loss: 1363.5454, Train F1: 0.5256 | adversarial F1 : 0.5354 | Val Loss: 1.6512, Val F1: 0.0373 | Time: 0.1s | Balanced Accuracy Val: 0.0103 | - Domain Loss: 0.0003\n"
     ]
    },
    {
     "name": "stderr",
     "output_type": "stream",
     "text": [
      "/home/mohammed_ahmed/miniconda3/envs/Competition_environment/lib/python3.10/site-packages/sklearn/metrics/_classification.py:2524: UserWarning: y_pred contains classes not in y_true\n",
      "  warnings.warn(\"y_pred contains classes not in y_true\")\n",
      "/home/mohammed_ahmed/miniconda3/envs/Competition_environment/lib/python3.10/site-packages/sklearn/metrics/_classification.py:2524: UserWarning: y_pred contains classes not in y_true\n",
      "  warnings.warn(\"y_pred contains classes not in y_true\")\n"
     ]
    },
    {
     "name": "stdout",
     "output_type": "stream",
     "text": [
      "🟡 No improvement for 92 epochs.\n",
      "Epoch [95/600] - Train Loss: 2156.1006, Train F1: 0.5317 | adversarial F1 : 0.5222 | Val Loss: 1.6492, Val F1: 0.0373 | Time: 0.1s | Balanced Accuracy Val: 0.0103 | - Domain Loss: 0.0002\n",
      "🟡 No improvement for 93 epochs.\n",
      "Epoch [96/600] - Train Loss: 2338.0721, Train F1: 0.5430 | adversarial F1 : 0.5445 | Val Loss: 1.6477, Val F1: 0.0373 | Time: 0.1s | Balanced Accuracy Val: 0.0103 | - Domain Loss: 0.0002\n"
     ]
    },
    {
     "name": "stderr",
     "output_type": "stream",
     "text": [
      "/home/mohammed_ahmed/miniconda3/envs/Competition_environment/lib/python3.10/site-packages/sklearn/metrics/_classification.py:2524: UserWarning: y_pred contains classes not in y_true\n",
      "  warnings.warn(\"y_pred contains classes not in y_true\")\n",
      "/home/mohammed_ahmed/miniconda3/envs/Competition_environment/lib/python3.10/site-packages/sklearn/metrics/_classification.py:2524: UserWarning: y_pred contains classes not in y_true\n",
      "  warnings.warn(\"y_pred contains classes not in y_true\")\n"
     ]
    },
    {
     "name": "stdout",
     "output_type": "stream",
     "text": [
      "🟡 No improvement for 94 epochs.\n",
      "Epoch [97/600] - Train Loss: 1059.3993, Train F1: 0.5504 | adversarial F1 : 0.5466 | Val Loss: 1.6469, Val F1: 0.0373 | Time: 0.1s | Balanced Accuracy Val: 0.0103 | - Domain Loss: 0.0004\n",
      "🟡 No improvement for 95 epochs.\n",
      "Epoch [98/600] - Train Loss: 908.9614, Train F1: 0.5288 | adversarial F1 : 0.5339 | Val Loss: 1.6463, Val F1: 0.0373 | Time: 0.1s | Balanced Accuracy Val: 0.0103 | - Domain Loss: 0.0002\n"
     ]
    },
    {
     "name": "stderr",
     "output_type": "stream",
     "text": [
      "/home/mohammed_ahmed/miniconda3/envs/Competition_environment/lib/python3.10/site-packages/sklearn/metrics/_classification.py:2524: UserWarning: y_pred contains classes not in y_true\n",
      "  warnings.warn(\"y_pred contains classes not in y_true\")\n",
      "/home/mohammed_ahmed/miniconda3/envs/Competition_environment/lib/python3.10/site-packages/sklearn/metrics/_classification.py:2524: UserWarning: y_pred contains classes not in y_true\n",
      "  warnings.warn(\"y_pred contains classes not in y_true\")\n"
     ]
    },
    {
     "name": "stdout",
     "output_type": "stream",
     "text": [
      "🟡 No improvement for 96 epochs.\n",
      "Epoch [99/600] - Train Loss: 1138.6711, Train F1: 0.5237 | adversarial F1 : 0.5258 | Val Loss: 1.6458, Val F1: 0.0373 | Time: 0.1s | Balanced Accuracy Val: 0.0103 | - Domain Loss: 0.0012\n",
      "🟡 No improvement for 97 epochs.\n",
      "Epoch [100/600] - Train Loss: 1457.7355, Train F1: 0.5423 | adversarial F1 : 0.5322 | Val Loss: 1.6454, Val F1: 0.0373 | Time: 0.1s | Balanced Accuracy Val: 0.0103 | - Domain Loss: 0.0005\n",
      "🟡 No improvement for 98 epochs.\n",
      "Epoch [101/600] - Train Loss: 1341.6254, Train F1: 0.5420 | adversarial F1 : 0.5266 | Val Loss: 1.6451, Val F1: 0.0373 | Time: 0.1s | Balanced Accuracy Val: 0.0103 | - Domain Loss: 0.0002\n",
      "---BREAKING TRAINING----\n"
     ]
    },
    {
     "name": "stderr",
     "output_type": "stream",
     "text": [
      "/home/mohammed_ahmed/miniconda3/envs/Competition_environment/lib/python3.10/site-packages/sklearn/metrics/_classification.py:2524: UserWarning: y_pred contains classes not in y_true\n",
      "  warnings.warn(\"y_pred contains classes not in y_true\")\n"
     ]
    },
    {
     "data": {
      "text/plain": [
       "np.float64(0.04648829431438127)"
      ]
     },
     "execution_count": 64,
     "metadata": {},
     "output_type": "execute_result"
    }
   ],
   "source": [
    "save_path = os.path.join(\"\",\"tuned_checkpoints\",\"model_ssvep\")\n",
    "\n",
    "training_loop_params = {\n",
    "    \"criterion\": CrossEntropyLoss(reduction=\"none\"),\n",
    "\n",
    "\n",
    "    \"optimizer_class\": Adam,\n",
    "    \"optimizer_config\": {\n",
    "        \"lr\": 0.001,\n",
    "        \"weight_decay\":0\n",
    "    },\n",
    "\n",
    "\n",
    "    \"scheduler_class\": None,\n",
    "    \"scheduler_config\":  {\n",
    "            \"T_max\": 121,\n",
    "            \"eta_min\": 0.00019632120929158656\n",
    "        },\n",
    "\n",
    "    \"window_len\": num_windows_per_trial,\n",
    "    \"n_epochs\": 600,\n",
    "    \"patience\": 600 ,\n",
    "    \"domain_lambda\": 0.2,\n",
    "    \"lambda_scheduler_fn\": None,\n",
    "    \"adversarial_steps\": 1,\n",
    "    \"adversarial_epsilon\": 0.05,\n",
    "    \"adversarial_alpha\": 0.005,\n",
    "    \"adversarial_training\": True,\n",
    "    \"save_best_only\": True,\n",
    "    \"save_path\": save_path,\n",
    "    \"n_classes\": 4,\n",
    "    \"device\": device,\n",
    "    \"update_loader\": (20, 100),\n",
    "    \"scheduler_fn\": None  # Optional: your own dynamic LR adjustment function\n",
    "}\n",
    "\n",
    "train_model(model_ssvep,\n",
    "            train_loader=train_loader,\n",
    "            val_loader=val_loader,\n",
    "            original_val_labels=trial_level_labels,\n",
    "            **training_loop_params\n",
    "    )"
   ]
  },
  {
   "cell_type": "code",
   "execution_count": 101,
   "id": "39272f01",
   "metadata": {},
   "outputs": [],
   "source": [
    "np.set_printoptions(suppress=True)\n",
    "\n"
   ]
  },
  {
   "cell_type": "code",
   "execution_count": 103,
   "id": "ebc2a1e2",
   "metadata": {},
   "outputs": [
    {
     "data": {
      "text/plain": [
       "tensor([3, 3, 3, 3, 3, 3, 3, 3, 3, 3, 3, 3, 3, 3, 3, 3, 3, 3, 3, 3, 3, 3, 3, 3,\n",
       "        3, 3, 3, 3, 3, 3, 3, 3, 3, 3, 3, 3, 3, 3, 3, 2, 2, 2, 2, 2, 2, 2, 2, 2,\n",
       "        2, 2, 2, 2, 3, 3, 3, 3, 3, 3, 3, 3, 3, 3, 3, 3, 3, 3, 3, 3, 3, 3, 3, 3,\n",
       "        3, 3, 3, 3, 3, 3, 2, 2, 2, 2, 2, 2, 2, 2, 2, 2, 2, 2, 2, 1, 1, 1, 1, 1,\n",
       "        1, 1, 1, 1, 1, 1, 1, 1])"
      ]
     },
     "execution_count": 103,
     "metadata": {},
     "output_type": "execute_result"
    }
   ],
   "source": [
    "trial_level_labels"
   ]
  },
  {
   "cell_type": "code",
   "execution_count": 102,
   "id": "5b9eafbe",
   "metadata": {},
   "outputs": [
    {
     "data": {
      "text/plain": [
       "array([[0.32958537, 0.03263313, 0.38126412, 0.25651738],\n",
       "       [0.3255843 , 0.18979754, 0.31974265, 0.16487542],\n",
       "       [0.4849823 , 0.00704174, 0.48517603, 0.02280002],\n",
       "       [0.5536281 , 0.04972099, 0.36318922, 0.03346165],\n",
       "       [0.03661281, 0.8781843 , 0.03940997, 0.04579278],\n",
       "       [0.01608884, 0.95102745, 0.0132519 , 0.01963184],\n",
       "       [0.00012568, 0.99934286, 0.0001578 , 0.0003736 ],\n",
       "       [0.00014678, 0.00019971, 0.0002484 , 0.99940515]], dtype=float32)"
      ]
     },
     "execution_count": 102,
     "metadata": {},
     "output_type": "execute_result"
    }
   ],
   "source": [
    "predict_optimized(\n",
    "    model_ssvep,\n",
    "    windows_per_trial=num_windows_per_trial,\n",
    "    loader=val_loader,\n",
    "    probability=True\n",
    ")"
   ]
  },
  {
   "cell_type": "code",
   "execution_count": 83,
   "id": "5d4913a9",
   "metadata": {},
   "outputs": [
    {
     "data": {
      "text/html": [
       "<div>\n",
       "<style scoped>\n",
       "    .dataframe tbody tr th:only-of-type {\n",
       "        vertical-align: middle;\n",
       "    }\n",
       "\n",
       "    .dataframe tbody tr th {\n",
       "        vertical-align: top;\n",
       "    }\n",
       "\n",
       "    .dataframe thead th {\n",
       "        text-align: right;\n",
       "    }\n",
       "</style>\n",
       "<table border=\"1\" class=\"dataframe\">\n",
       "  <thead>\n",
       "    <tr style=\"text-align: right;\">\n",
       "      <th></th>\n",
       "      <th>trial</th>\n",
       "      <th>direction</th>\n",
       "    </tr>\n",
       "  </thead>\n",
       "  <tbody>\n",
       "    <tr>\n",
       "      <th>0</th>\n",
       "      <td>1</td>\n",
       "      <td>Forward</td>\n",
       "    </tr>\n",
       "    <tr>\n",
       "      <th>1</th>\n",
       "      <td>2</td>\n",
       "      <td>Right</td>\n",
       "    </tr>\n",
       "    <tr>\n",
       "      <th>2</th>\n",
       "      <td>3</td>\n",
       "      <td>Forward</td>\n",
       "    </tr>\n",
       "    <tr>\n",
       "      <th>3</th>\n",
       "      <td>4</td>\n",
       "      <td>Left</td>\n",
       "    </tr>\n",
       "    <tr>\n",
       "      <th>4</th>\n",
       "      <td>5</td>\n",
       "      <td>Right</td>\n",
       "    </tr>\n",
       "    <tr>\n",
       "      <th>5</th>\n",
       "      <td>6</td>\n",
       "      <td>Left</td>\n",
       "    </tr>\n",
       "    <tr>\n",
       "      <th>6</th>\n",
       "      <td>7</td>\n",
       "      <td>Forward</td>\n",
       "    </tr>\n",
       "    <tr>\n",
       "      <th>7</th>\n",
       "      <td>8</td>\n",
       "      <td>Backward</td>\n",
       "    </tr>\n",
       "    <tr>\n",
       "      <th>8</th>\n",
       "      <td>9</td>\n",
       "      <td>Right</td>\n",
       "    </tr>\n",
       "    <tr>\n",
       "      <th>9</th>\n",
       "      <td>10</td>\n",
       "      <td>Backward</td>\n",
       "    </tr>\n",
       "    <tr>\n",
       "      <th>10</th>\n",
       "      <td>1</td>\n",
       "      <td>Left</td>\n",
       "    </tr>\n",
       "    <tr>\n",
       "      <th>11</th>\n",
       "      <td>2</td>\n",
       "      <td>Backward</td>\n",
       "    </tr>\n",
       "    <tr>\n",
       "      <th>12</th>\n",
       "      <td>3</td>\n",
       "      <td>Right</td>\n",
       "    </tr>\n",
       "    <tr>\n",
       "      <th>13</th>\n",
       "      <td>4</td>\n",
       "      <td>Right</td>\n",
       "    </tr>\n",
       "    <tr>\n",
       "      <th>14</th>\n",
       "      <td>5</td>\n",
       "      <td>Right</td>\n",
       "    </tr>\n",
       "    <tr>\n",
       "      <th>15</th>\n",
       "      <td>6</td>\n",
       "      <td>Left</td>\n",
       "    </tr>\n",
       "    <tr>\n",
       "      <th>16</th>\n",
       "      <td>7</td>\n",
       "      <td>Right</td>\n",
       "    </tr>\n",
       "    <tr>\n",
       "      <th>17</th>\n",
       "      <td>8</td>\n",
       "      <td>Right</td>\n",
       "    </tr>\n",
       "    <tr>\n",
       "      <th>18</th>\n",
       "      <td>9</td>\n",
       "      <td>Left</td>\n",
       "    </tr>\n",
       "    <tr>\n",
       "      <th>19</th>\n",
       "      <td>10</td>\n",
       "      <td>Forward</td>\n",
       "    </tr>\n",
       "  </tbody>\n",
       "</table>\n",
       "</div>"
      ],
      "text/plain": [
       "    trial direction\n",
       "0       1   Forward\n",
       "1       2     Right\n",
       "2       3   Forward\n",
       "3       4      Left\n",
       "4       5     Right\n",
       "5       6      Left\n",
       "6       7   Forward\n",
       "7       8  Backward\n",
       "8       9     Right\n",
       "9      10  Backward\n",
       "10      1      Left\n",
       "11      2  Backward\n",
       "12      3     Right\n",
       "13      4     Right\n",
       "14      5     Right\n",
       "15      6      Left\n",
       "16      7     Right\n",
       "17      8     Right\n",
       "18      9      Left\n",
       "19     10   Forward"
      ]
     },
     "execution_count": 83,
     "metadata": {},
     "output_type": "execute_result"
    }
   ],
   "source": [
    "labels_trial_df"
   ]
  },
  {
   "cell_type": "code",
   "execution_count": 92,
   "id": "2be96890",
   "metadata": {},
   "outputs": [
    {
     "data": {
      "text/plain": [
       "'Right'"
      ]
     },
     "execution_count": 92,
     "metadata": {},
     "output_type": "execute_result"
    }
   ],
   "source": [
    "n = 8\n",
    "predict(model_ssvep.to(torch.device(\"cpu\")) , trial_df[n*1750:(n+1)*1750])"
   ]
  },
  {
   "cell_type": "code",
   "execution_count": 78,
   "id": "bbf1db8f",
   "metadata": {},
   "outputs": [],
   "source": [
    "def predict(model, df):\n",
    "    \"\"\"\n",
    "    Preprocess the raw MI data and make a prediction.\n",
    "\n",
    "    Args:\n",
    "        model: The loaded model object.\n",
    "        df (pd.DataFrame): The raw trial data.\n",
    "\n",
    "    Returns:\n",
    "        str: The prediction, which must be \"left\", \"right\", or \"?\".\n",
    "    \"\"\"\n",
    "    def preprocess_optimized(\n",
    "            trial_df,\n",
    "            signal_processer = None\n",
    "            ):\n",
    "        eeg_col =  ['OZ', 'PO7', 'PO8', 'PZ']\n",
    "\n",
    "\n",
    "        input_array = trial_df.drop(columns = [\"Time\" , \"Battery\" , \"Counter\"])[eeg_col+['AccX',\n",
    "            'AccY', 'AccZ', 'Gyro1', 'Gyro2', 'Gyro3' , 'Validation']].to_numpy().T\n",
    "        \n",
    "        acc_channel = np.linalg.norm(input_array[4:7,:],axis = 0)\n",
    "        gyro_channel = np.linalg.norm(input_array[7:10,:],axis = 0)\n",
    "        Validation_Channel = input_array[10,:]\n",
    "        input_array[4,:] = acc_channel\n",
    "        input_array[5,:] = gyro_channel\n",
    "        input_array[6,:] = Validation_Channel\n",
    "\n",
    "        input_array = input_array[:7,:]\n",
    "\n",
    "\n",
    "        preprocessed_test_data , _ , _ , weights_test = signal_processer.apply_preprocessing(np.expand_dims(input_array,axis=0), np.array([None]) , np.array([1]))\n",
    "        \n",
    "        num_windows_per_trial = signal_processer.num_windows_per_trial\n",
    "\n",
    "        \n",
    "        return (\n",
    "            torch.from_numpy(preprocessed_test_data).to(torch.float32),\n",
    "           -1,\n",
    "            -1,\n",
    "            torch.from_numpy(weights_test).to(torch.float32),\n",
    "            num_windows_per_trial\n",
    "            )\n",
    "\n",
    "    preprocessor = SignalPreprocessor(\n",
    "    fs=250,                                                 \n",
    "    bandpass_low=8,                     \n",
    "    bandpass_high=14,                  \n",
    "    n_cols_to_filter=4,                   \n",
    "    window_size=500,                      \n",
    "    window_stride=50,                    \n",
    "    idx_to_ignore_normalization=-1,        \n",
    "    crop_range=(1.5 , 6)            \n",
    ")\n",
    "    data , _ , _ , weights , windows_per_trial = preprocess_optimized(df,signal_processer=preprocessor)\n",
    "\n",
    "    \n",
    "    index_to_label = {\n",
    "        0: \"Backward\",\n",
    "        1: \"Forward\",\n",
    "        2: \"Left\",\n",
    "        3: \"Right\"\n",
    "    }\n",
    "\n",
    "    prediction = predict_optimized(\n",
    "        model=model,\n",
    "        windows_per_trial=windows_per_trial,\n",
    "        loader= (data , weights)\n",
    "\n",
    "    )\n",
    "\n",
    "    return index_to_label[prediction[0]]"
   ]
  },
  {
   "cell_type": "code",
   "execution_count": null,
   "id": "a3fc7b8a",
   "metadata": {},
   "outputs": [],
   "source": []
  }
 ],
 "metadata": {
  "kernelspec": {
   "display_name": "Competition_environment",
   "language": "python",
   "name": "python3"
  },
  "language_info": {
   "codemirror_mode": {
    "name": "ipython",
    "version": 3
   },
   "file_extension": ".py",
   "mimetype": "text/x-python",
   "name": "python",
   "nbconvert_exporter": "python",
   "pygments_lexer": "ipython3",
   "version": "3.10.18"
  }
 },
 "nbformat": 4,
 "nbformat_minor": 5
}
