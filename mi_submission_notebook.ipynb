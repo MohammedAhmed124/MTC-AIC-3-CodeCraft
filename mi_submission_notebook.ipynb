{
 "cells": [
  {
   "cell_type": "markdown",
   "id": "bb9e6024",
   "metadata": {},
   "source": [
    "# 🧠 BCI Competition: Motor Imagery (MI) Game Control Template\n",
    "\n",
    "Welcome, teams\\! This notebook is your template for the real-time Motor Imagery (MI) competition.\n",
    "\n",
    "### Your Task\n",
    "\n",
    "Your goal is to classify a user's intended \"left\" or \"right\" hand movement to control a game. You will only modify two functions: `load_model` and `predict`. The surrounding infrastructure for data recording and game communication is fixed.\n",
    "\n",
    "1.  Add any necessary library imports in **Part 1**.\n",
    "2.  Complete the `load_model` function in **Part 3**.\n",
    "3.  Complete the `predict` function in **Part 4**.\n",
    "4.  Submit this completed notebook and your model file(s)."
   ]
  },
  {
   "cell_type": "markdown",
   "id": "9354e33f",
   "metadata": {},
   "source": [
    "## Part 1: Team-Specific Imports <span style=\"color:green\">*(✍️ EDITABLE)*</span>.\n",
    "\n",
    "In the cell below, add any libraries required to load your model and process the data (e.g., `tensorflow`, `sklearn`, `mne`, `scipy`).\n"
   ]
  },
  {
   "cell_type": "code",
   "execution_count": 1,
   "id": "67354f48",
   "metadata": {},
   "outputs": [
    {
     "name": "stdout",
     "output_type": "stream",
     "text": [
      "Team-specific libraries would be imported here.\n"
     ]
    }
   ],
   "source": [
    "# ==> YOUR CODE HERE <==\n",
    "# Example:\n",
    "# import mne\n",
    "# from scipy.signal import butter, lfilter\n",
    "# import joblib\n",
    "from model.MTCformerV3 import MTCFormer\n",
    "import torch\n",
    "from utils.preprocessing import SignalPreprocessor\n",
    "import numpy as np \n",
    "from utils.training import predict_optimized\n",
    "print(\"Team-specific libraries would be imported here.\")\n"
   ]
  },
  {
   "cell_type": "markdown",
   "id": "15b9b85c",
   "metadata": {},
   "source": [
    "## Part 2: Data Recording Infrastructure <span style=\"color:red\">*(❌ DO NOT EDIT or ADD anything)*</span>.\n",
    "\n",
    "The system uses a dedicated function to record each trial of raw EEG data from the headset. This function captures the data and passes it to your `predict` function as a pandas DataFrame. You do not need to modify this.\n",
    "\n",
    "```python\n",
    "def record_trial(inlet):\n",
    "    # This function's internal logic is fixed.\n",
    "    # It records 9 seconds of data and returns a DataFrame.\n",
    "    ...\n",
    "```\n",
    "\n",
    "The structure of the pandas DataFrame given to `predict()` will contain **2250 rows**, which is the total number of samples for a single 9-second trial.\n",
    "\n",
    "```\n",
    "              Time            FZ            C3           CZ  ...     Gyro3    Battery  Counter  Validation\n",
    "0     1.664401e+06  332287.40625  357817.12500  640024.6250  ...  0.366211  66.666672  19733.0         1.0\n",
    "1     1.664401e+06  335842.93750  361377.65625  647339.8750  ...  0.274658  66.666672  19734.0         1.0\n",
    "...            ...           ...           ...          ...  ...       ...        ...      ...         ...\n",
    "2248  1.664410e+06  335227.37500  358243.93750  639073.8750  ...  0.732422  66.666672  21981.0         1.0\n",
    "2249  1.664410e+06  331707.93750  355082.68750  631451.1250  ...  0.823975  66.666672  21982.0         1.0\n",
    "```"
   ]
  },
  {
   "cell_type": "markdown",
   "id": "3303f269",
   "metadata": {},
   "source": [
    "## Part 3: Model Loading <span style=\"color:green\">*(✍️ EDITABLE)*</span>.\n",
    "\n",
    "Complete this function to load your trained model from the provided file path.\n",
    "\n",
    "**Instructions:**\n",
    "\n",
    "  * The function takes a `model_path` string as input.\n",
    "  * It must load your model and return the model object.\n",
    "  * Ensure the model is in evaluation/inference mode (e.g., `model.eval()`)."
   ]
  },
  {
   "cell_type": "code",
   "execution_count": 10,
   "id": "653d9e4c",
   "metadata": {},
   "outputs": [],
   "source": [
    "\n",
    "def load_model(model_path):\n",
    "    \"\"\"\n",
    "    Load the trained MI model from the given file path.\n",
    "\n",
    "    Args:\n",
    "        model_path (str): The path to the model file.\n",
    "\n",
    "    Returns:\n",
    "        model: The loaded model object.\n",
    "    \"\"\"\n",
    "    model = MTCFormer(depth=3,\n",
    "                    kernel_size=50,\n",
    "                    modulator_kernel_size=30,\n",
    "                    n_times=600,\n",
    "                    chs_num=7,\n",
    "                    eeg_ch_nums=4,\n",
    "                    class_num=2,\n",
    "                    class_num_domain=30,\n",
    "                    modulator_dropout=0.48929137963218305,\n",
    "                    mid_dropout=0.5,\n",
    "                    output_dropout=0.42685917257840517,\n",
    "                    k=100,\n",
    "                    projection_dimention=2,\n",
    "                    seed=4224\n",
    "                    )\n",
    "    model.load_state_dict(\n",
    "        torch.load(model_path, weights_only=False)['model_state_dict'] , strict=False\n",
    "        )\n",
    "    model.eval()\n",
    "    return model\n"
   ]
  },
  {
   "cell_type": "markdown",
   "id": "d432ac4a",
   "metadata": {},
   "source": [
    "## Part 4: Preprocessing and Prediction  <span style=\"color:green\">*(✍️ EDITABLE)*</span>.\n",
    "\n",
    "Complete this function to process the raw trial data and make a final prediction for game control.\n",
    "\n",
    "**Instructions:**\n",
    "\n",
    "  * The function receives the `model` object and a `df` (a pandas DataFrame) from the `record_trial` function.\n",
    "  * You must perform all necessary **preprocessing** (e.g., filtering, feature extraction) inside this function.\n",
    "  * The function must return one of three specific strings: `\"left\"`, `\"right\"`, or `\"?\"`.\n",
    "  * Returning `\"?\"` is crucial for preventing incorrect moves in the game when the model is not confident."
   ]
  },
  {
   "cell_type": "code",
   "execution_count": 11,
   "id": "9e47255c",
   "metadata": {},
   "outputs": [],
   "source": [
    "def predict(model, df):\n",
    "    \"\"\"\n",
    "    Preprocess the raw MI data and make a prediction.\n",
    "\n",
    "    Args:\n",
    "        model: The loaded model object.\n",
    "        df (pd.DataFrame): The raw trial data.\n",
    "\n",
    "    Returns:\n",
    "        str: The prediction, which must be \"left\", \"right\", or \"?\".\n",
    "    \"\"\"\n",
    "    def preprocess_optimized(\n",
    "            trial_df,\n",
    "            signal_processer = None\n",
    "            ):\n",
    "        eeg_col = ['OZ', 'PO7', 'PO8', 'PZ']\n",
    "\n",
    "\n",
    "        input_array = trial_df.drop(columns = [\"Time\" , \"Battery\" , \"Counter\"])[eeg_col+['AccX',\n",
    "            'AccY', 'AccZ', 'Gyro1', 'Gyro2', 'Gyro3' , 'Validation']].to_numpy().T\n",
    "        \n",
    "        acc_channel = np.linalg.norm(input_array[4:7,:],axis = 0)\n",
    "        gyro_channel = np.linalg.norm(input_array[7:10,:],axis = 0)\n",
    "        Validation_Channel = input_array[10,:]\n",
    "        input_array[4,:] = acc_channel\n",
    "        input_array[5,:] = gyro_channel\n",
    "        input_array[6,:] = Validation_Channel\n",
    "\n",
    "        input_array = input_array[:7,:]\n",
    "\n",
    "\n",
    "        preprocessed_test_data , _ , _ , weights_test = signal_processer.apply_preprocessing(np.expand_dims(input_array,axis=0), np.array([None]) , np.array([1]))\n",
    "        \n",
    "        num_windows_per_trial = signal_processer.num_windows_per_trial\n",
    "\n",
    "        \n",
    "        return (\n",
    "            torch.from_numpy(preprocessed_test_data).to(torch.float32),\n",
    "           -1,\n",
    "            -1,\n",
    "            torch.from_numpy(weights_test).to(torch.float32),\n",
    "            num_windows_per_trial\n",
    "            )\n",
    "\n",
    "    preprocessor = SignalPreprocessor(\n",
    "        fs=250,                                                \n",
    "        bandpass_low=6.0,                     \n",
    "        bandpass_high=24.0,                  \n",
    "        n_cols_to_filter=4,                   \n",
    "        window_size=600,                      \n",
    "        window_stride=35,                    \n",
    "        idx_to_ignore_normalization=-1,        \n",
    "        crop_range=(2.5 , 7)              \n",
    "    )\n",
    "\n",
    "    data , _ , _ , weights , windows_per_trial = preprocess_optimized(df,signal_processer=preprocessor)\n",
    "\n",
    "    \n",
    "    mapping_mi = {\n",
    "        0:\"left\",\n",
    "        1:\"right\"\n",
    "    }\n",
    "\n",
    "    prediction = predict_optimized(\n",
    "        model=model,\n",
    "        windows_per_trial=windows_per_trial,\n",
    "        loader= (data , weights)\n",
    "\n",
    "    )\n",
    "\n",
    "    return mapping_mi[prediction[0]]"
   ]
  },
  {
   "cell_type": "markdown",
   "id": "0d777f65",
   "metadata": {},
   "source": [
    "## Part 5: Game Interface <span style=\"color:red\">*(❌ DO NOT EDIT or ADD anything)*</span>.\n",
    "\n",
    "After your `predict` function returns a command (e.g., `\"left\"`), the system passes this string to a game interface function. This function sends your prediction over the network to the game engine.\n",
    "\n",
    "```python\n",
    "def send_to_game(socket, prediction):\n",
    "    # This function's internal logic is fixed.\n",
    "    # It sends your prediction string (\"left\", \"right\", or \"?\")\n",
    "    # over a ZeroMQ socket to the game.\n",
    "    ..."
   ]
  },
  {
   "cell_type": "markdown",
   "id": "aa4e0d34",
   "metadata": {},
   "source": []
  }
 ],
 "metadata": {
  "kernelspec": {
   "display_name": "Competition_environment",
   "language": "python",
   "name": "python3"
  },
  "language_info": {
   "codemirror_mode": {
    "name": "ipython",
    "version": 3
   },
   "file_extension": ".py",
   "mimetype": "text/x-python",
   "name": "python",
   "nbconvert_exporter": "python",
   "pygments_lexer": "ipython3",
   "version": "3.10.18"
  }
 },
 "nbformat": 4,
 "nbformat_minor": 5
}
